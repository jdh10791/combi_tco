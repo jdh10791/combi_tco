{
 "cells": [
  {
   "cell_type": "code",
   "execution_count": 1,
   "metadata": {
    "collapsed": true
   },
   "outputs": [],
   "source": [
    "import os\n",
    "import pandas as pd"
   ]
  },
  {
   "cell_type": "code",
   "execution_count": 40,
   "metadata": {},
   "outputs": [],
   "source": [
    "datadir = os.path.join(os.environ['HOME'],'OneDrive - Colorado School of Mines\\\\Research\\\\MIDDMI\\\\TCO\\\\Data')\n",
    "count = 'processed'\n",
    "cntdir = os.path.join(datadir,count)\n",
    "os.chdir(cntdir)"
   ]
  },
  {
   "cell_type": "code",
   "execution_count": 85,
   "metadata": {},
   "outputs": [
    {
     "data": {
      "text/plain": [
       "(1380, 1380)"
      ]
     },
     "execution_count": 85,
     "metadata": {},
     "output_type": "execute_result"
    }
   ],
   "source": [
    "os.chdir(cntdir)\n",
    "#prefix = 'PDAC_COM3'\n",
    "varname = 'FWHM_110'\n",
    "vardisp = 'PROPERTY: FWHM of 110 peak ($\\degree$)'\n",
    "nraw = 0\n",
    "nproc = 0\n",
    "rawdat = pd.DataFrame()\n",
    "procdat = pd.DataFrame()\n",
    "\n",
    "for lib in next(os.walk(cntdir))[1]:\n",
    "    os.chdir(lib)\n",
    "    rfname = '_'.join([lib,varname]) + '.txt'\n",
    "    pfname = '_'.join([lib,'AllVar.csv'])\n",
    "    \n",
    "    #read raw data file\n",
    "    if os.path.exists(rfname):    \n",
    "        raw = pd.read_csv(rfname,sep='\\s+')\n",
    "        #get number of records with non-null variable value\n",
    "        nr = len(raw) - raw[varname].isnull().astype(int).sum()\n",
    "        #add sample number to df & append to cdf\n",
    "        raw.insert(0,'Sample',lib)\n",
    "        rawdat = rawdat.append(raw,ignore_index=True)\n",
    "    #if no file, n = 0\n",
    "    else:\n",
    "        nr = 0\n",
    "        \n",
    "    if os.path.exists(pfname):\n",
    "        #read processed file\n",
    "        proc = pd.read_csv(pfname)\n",
    "        if vardisp in list(proc.columns):\n",
    "            np = len(proc) - proc[vardisp].isnull().astype(int).sum()\n",
    "            procdat = procdat.append(proc,ignore_index=True)\n",
    "        else: #if no column for var, n = 0\n",
    "            np = 0\n",
    "    #if no file, n = 0\n",
    "    else:\n",
    "        np = 0\n",
    "    \n",
    "    nraw += nr\n",
    "    nproc += np\n",
    "    os.chdir(cntdir)\n",
    "nraw, nproc"
   ]
  },
  {
   "cell_type": "code",
   "execution_count": 75,
   "metadata": {},
   "outputs": [
    {
     "data": {
      "text/plain": [
       "'PROPERTY: FWHM of 110 peak ($\\\\degree$)'"
      ]
     },
     "execution_count": 75,
     "metadata": {},
     "output_type": "execute_result"
    }
   ],
   "source": [
    "vardisp"
   ]
  },
  {
   "cell_type": "code",
   "execution_count": 76,
   "metadata": {},
   "outputs": [],
   "source": [
    "os.chdir(os.path.join(datadir,'processed/PDAC_COM3_01026'))\n",
    "proc = pd.read_csv('PDAC_COM3_01026_AllVar.csv')"
   ]
  },
  {
   "cell_type": "code",
   "execution_count": 77,
   "metadata": {},
   "outputs": [
    {
     "data": {
      "text/plain": [
       "False"
      ]
     },
     "execution_count": 77,
     "metadata": {},
     "output_type": "execute_result"
    }
   ],
   "source": [
    "vardisp in list(proc.columns)"
   ]
  },
  {
   "cell_type": "code",
   "execution_count": 70,
   "metadata": {},
   "outputs": [
    {
     "data": {
      "text/plain": [
       "Index(['FORMULA', 'IDENTIFIER: Sample number', 'IDENTIFIER: Point',\n",
       "       'IDENTIFIER: Row', 'IDENTIFIER: Column',\n",
       "       'PROPERTY: Cubic lattice constant ($\\r{A}$)',\n",
       "       'PROPERTY: Film thickness ($\\mu$m)',\n",
       "       'PROPERTY: FWHM of 110 peak $\\degree$)',\n",
       "       'PROPERTY: FWHM of 111 peak ($\\degree$)',\n",
       "       'PROPERTY: FWHM of 200 peak ($\\degree$)',\n",
       "       'PROPERTY: Max intensity of 110 peak (counts)',\n",
       "       'PROPERTY: Max intensity of 111 peak (counts)',\n",
       "       'PROPERTY: Max intensity of 200 peak (counts)',\n",
       "       'PROPERTY: Area of 110 peak',\n",
       "       'PROPERTY: Position of 110 peak ($\\degree$)',\n",
       "       'PROPERTY: Position of 111 peak ($\\degree$)',\n",
       "       'PROPERTY: Position of 200 peak ($\\degree$)',\n",
       "       'IDENTIFIER: X position (mm)', 'IDENTIFIER: Y position (mm)',\n",
       "       'IDENTIFIER: Date', 'PREPARATION STEP NAME',\n",
       "       'PREPARATION STEP DETAIL: Targets used',\n",
       "       'PREPARATION STEP DETAIL: Laser Energy (mJ)',\n",
       "       'PREPARATION STEP DETAIL: Laser Voltage (kV)',\n",
       "       'PREPARATION STEP DETAIL: Temperature ($^{\\circ}$C)',\n",
       "       'PREPARATION STEP DETAIL: Temperature Gradient',\n",
       "       'PREPARATION STEP DETAIL: Number of Cycles',\n",
       "       'PREPARATION STEP DETAIL: Laser Pulse Frequency',\n",
       "       'PREPARATION STEP DETAIL: Deposition Pressure (mTorr)',\n",
       "       'PREPARATION STEP DETAIL: Substrate',\n",
       "       'PREPARATION STEP DETAIL: BZC19 Pulses/Cycle',\n",
       "       'PREPARATION STEP DETAIL: BZC91 Pulses/Cycle',\n",
       "       'PREPARATION STEP DETAIL: BZF19 Pulses/Cycle',\n",
       "       'PREPARATION STEP DETAIL: BZY82 Pulses/Cycle',\n",
       "       'PREPARATION STEP DETAIL: BZYCF1135 Pulses/Cycle',\n",
       "       'PREPARATION STEP DETAIL: BZYF631 Pulses/Cycle',\n",
       "       'PREPARATION STEP DETAIL: B12ZY82 Pulses/Cycle',\n",
       "       'PREPARATION STEP DETAIL: Average Target Pulses/Cycle',\n",
       "       'PREPARATION STEP DETAIL: BZC19 Substrate Angle',\n",
       "       'PREPARATION STEP DETAIL: BZC91 Substrate Angle',\n",
       "       'PREPARATION STEP DETAIL: BZF19 Substrate Angle',\n",
       "       'PREPARATION STEP DETAIL: BZY82 Substrate Angle',\n",
       "       'PREPARATION STEP DETAIL: BZYCF1135 Substrate Angle',\n",
       "       'PREPARATION STEP DETAIL: BZYF631 Substrate Angle',\n",
       "       'PREPARATION STEP DETAIL: B12ZY82 Substrate Angle'],\n",
       "      dtype='object')"
      ]
     },
     "execution_count": 70,
     "metadata": {},
     "output_type": "execute_result"
    }
   ],
   "source": [
    "proc.columns"
   ]
  },
  {
   "cell_type": "code",
   "execution_count": 82,
   "metadata": {},
   "outputs": [
    {
     "data": {
      "text/plain": [
       "(True, False)"
      ]
     },
     "execution_count": 82,
     "metadata": {},
     "output_type": "execute_result"
    }
   ],
   "source": [
    "test= 'PROPERTY: FWHM of 110 peak $\\degree$)' \n",
    "test in list(proc.columns), vardisp in list(proc.columns)"
   ]
  },
  {
   "cell_type": "code",
   "execution_count": 83,
   "metadata": {},
   "outputs": [
    {
     "data": {
      "text/plain": [
       "('PROPERTY: FWHM of 110 peak $\\\\degree$)',\n",
       " 'PROPERTY: FWHM of 110 peak ($\\\\degree$)')"
      ]
     },
     "execution_count": 83,
     "metadata": {},
     "output_type": "execute_result"
    }
   ],
   "source": [
    "test, vardisp"
   ]
  },
  {
   "cell_type": "code",
   "execution_count": 84,
   "metadata": {},
   "outputs": [
    {
     "data": {
      "text/plain": [
       "str"
      ]
     },
     "execution_count": 84,
     "metadata": {},
     "output_type": "execute_result"
    }
   ],
   "source": [
    "type(test)"
   ]
  },
  {
   "cell_type": "code",
   "execution_count": null,
   "metadata": {
    "collapsed": true
   },
   "outputs": [],
   "source": []
  }
 ],
 "metadata": {
  "kernelspec": {
   "display_name": "Python 3",
   "language": "python",
   "name": "python3"
  },
  "language_info": {
   "codemirror_mode": {
    "name": "ipython",
    "version": 3
   },
   "file_extension": ".py",
   "mimetype": "text/x-python",
   "name": "python",
   "nbconvert_exporter": "python",
   "pygments_lexer": "ipython3",
   "version": "3.6.4"
  }
 },
 "nbformat": 4,
 "nbformat_minor": 2
}
