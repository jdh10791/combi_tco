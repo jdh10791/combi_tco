{
 "cells": [
  {
   "cell_type": "code",
   "execution_count": 1,
   "metadata": {},
   "outputs": [],
   "source": [
    "import numpy as np\n",
    "import matplotlib.pyplot as plt\n",
    "%matplotlib notebook\n",
    "from mpl_toolkits.mplot3d import axes3d\n",
    "from matplotlib import cm"
   ]
  },
  {
   "cell_type": "markdown",
   "metadata": {},
   "source": [
    "### Simple SIS on 20 parameters, 2 of which form the true model"
   ]
  },
  {
   "cell_type": "code",
   "execution_count": 58,
   "metadata": {},
   "outputs": [
    {
     "name": "stdout",
     "output_type": "stream",
     "text": [
      "x std: [1. 1. 1. 1. 1. 1. 1. 1. 1. 1. 1. 1. 1. 1. 1. 1. 1. 1. 1. 1.]\n",
      "x mean: [-0. -0. -0. -0. -0. -0.  0.  0. -0.  0.  0. -0.  0. -0.  0. -0. -0.  0.\n",
      "  0. -0.]\n"
     ]
    }
   ],
   "source": [
    "#set up parameters and model\n",
    "x = np.random.normal(size=(100,20))\n",
    "#scale & center such that each parameter has mean 0 and std 1\n",
    "x_mean = np.mean(x,axis=0)\n",
    "x = x - x_mean\n",
    "x_std = np.std(x,axis=0)\n",
    "x = x/x_std\n",
    "print('x std:',np.std(x,axis=0))\n",
    "print('x mean:',np.round(np.mean(x,axis=0),10))\n",
    "\n",
    "true_y = x[:,0]*5 - x[:,1]*1\n",
    "noise = np.random.normal(size=100)\n",
    "obs_y = true_y + noise"
   ]
  },
  {
   "cell_type": "code",
   "execution_count": 59,
   "metadata": {},
   "outputs": [
    {
     "data": {
      "text/plain": [
       "array([ 505.21168657, -105.92353261,  -46.16309252,  156.43601909,\n",
       "         36.64172262,  -34.22914895,  -64.40352807,  -71.63951447,\n",
       "        -48.89145366,   63.34449369,  -54.02042548,  -31.75148389,\n",
       "         21.87834443,   20.49610815,  -72.91190339,   50.08186075,\n",
       "         26.060757  ,   50.13672791,   30.09756258,   -1.04828851])"
      ]
     },
     "execution_count": 59,
     "metadata": {},
     "output_type": "execute_result"
    }
   ],
   "source": [
    "#componentwise regression\n",
    "w = np.dot(x.T,obs_y)\n",
    "w"
   ]
  },
  {
   "cell_type": "code",
   "execution_count": 60,
   "metadata": {},
   "outputs": [
    {
     "data": {
      "text/plain": [
       "array([[   0.        ,  505.21168657],\n",
       "       [   3.        ,  156.43601909],\n",
       "       [   1.        , -105.92353261],\n",
       "       [  14.        ,  -72.91190339],\n",
       "       [   7.        ,  -71.63951447],\n",
       "       [   6.        ,  -64.40352807],\n",
       "       [   9.        ,   63.34449369],\n",
       "       [  10.        ,  -54.02042548],\n",
       "       [  17.        ,   50.13672791],\n",
       "       [  15.        ,   50.08186075],\n",
       "       [   8.        ,  -48.89145366],\n",
       "       [   2.        ,  -46.16309252],\n",
       "       [   4.        ,   36.64172262],\n",
       "       [   5.        ,  -34.22914895],\n",
       "       [  11.        ,  -31.75148389],\n",
       "       [  18.        ,   30.09756258],\n",
       "       [  16.        ,   26.060757  ],\n",
       "       [  12.        ,   21.87834443],\n",
       "       [  13.        ,   20.49610815],\n",
       "       [  19.        ,   -1.04828851]])"
      ]
     },
     "execution_count": 60,
     "metadata": {},
     "output_type": "execute_result"
    }
   ],
   "source": [
    "#sort by largest abs value of w\n",
    "ind = np.arange(0,len(w)) #add index to keep track of parameters\n",
    "w_ind = np.column_stack((ind,w))\n",
    "w_ind[(np.abs(w)).argsort()[::-1]]"
   ]
  },
  {
   "cell_type": "markdown",
   "metadata": {},
   "source": [
    "Less important parameter in model may not be at top of correlation list if its linear coefficient is small. However, given large enough submodel, the parameter should still make the cut, and can be identified in the subsequent application of a more careful selector."
   ]
  },
  {
   "cell_type": "code",
   "execution_count": 29,
   "metadata": {},
   "outputs": [
    {
     "data": {
      "text/plain": [
       "array([ 0,  1, 19,  7, 11, 14, 18,  5, 13,  3,  8, 16, 15, 10,  9, 12,  2,\n",
       "       17,  4,  6], dtype=int64)"
      ]
     },
     "execution_count": 29,
     "metadata": {},
     "output_type": "execute_result"
    }
   ],
   "source": [
    "w_ind[:,1].argsort()[::-1]"
   ]
  },
  {
   "cell_type": "code",
   "execution_count": 28,
   "metadata": {},
   "outputs": [
    {
     "data": {
      "text/plain": [
       "array([[0.00000000e+00, 5.48099155e+02],\n",
       "       [1.00000000e+00, 2.59171537e+02],\n",
       "       [2.00000000e+00, 6.43993590e+00],\n",
       "       [3.00000000e+00, 4.73470286e+01],\n",
       "       [4.00000000e+00, 4.14251087e+00],\n",
       "       [5.00000000e+00, 5.70147005e+01],\n",
       "       [6.00000000e+00, 4.56981213e-02],\n",
       "       [7.00000000e+00, 9.30293493e+01],\n",
       "       [8.00000000e+00, 4.10357082e+01],\n",
       "       [9.00000000e+00, 1.25038788e+01],\n",
       "       [1.00000000e+01, 2.56054111e+01],\n",
       "       [1.10000000e+01, 7.67849420e+01],\n",
       "       [1.20000000e+01, 7.56933827e+00],\n",
       "       [1.30000000e+01, 5.21806272e+01],\n",
       "       [1.40000000e+01, 7.49144042e+01],\n",
       "       [1.50000000e+01, 3.40553115e+01],\n",
       "       [1.60000000e+01, 3.92202826e+01],\n",
       "       [1.70000000e+01, 6.33617168e+00],\n",
       "       [1.80000000e+01, 6.89774951e+01],\n",
       "       [1.90000000e+01, 1.41879500e+02]])"
      ]
     },
     "execution_count": 28,
     "metadata": {},
     "output_type": "execute_result"
    }
   ],
   "source": [
    "w_ind"
   ]
  },
  {
   "cell_type": "code",
   "execution_count": null,
   "metadata": {},
   "outputs": [],
   "source": []
  }
 ],
 "metadata": {
  "kernelspec": {
   "display_name": "Python 3",
   "language": "python",
   "name": "python3"
  },
  "language_info": {
   "codemirror_mode": {
    "name": "ipython",
    "version": 3
   },
   "file_extension": ".py",
   "mimetype": "text/x-python",
   "name": "python",
   "nbconvert_exporter": "python",
   "pygments_lexer": "ipython3",
   "version": "3.6.4"
  }
 },
 "nbformat": 4,
 "nbformat_minor": 2
}
