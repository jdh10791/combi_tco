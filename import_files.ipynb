{
 "cells": [
  {
   "cell_type": "code",
   "execution_count": 16,
   "metadata": {
    "collapsed": true
   },
   "outputs": [],
   "source": [
    "import numpy as np\n",
    "import os\n",
    "import glob\n",
    "from shutil import copy"
   ]
  },
  {
   "cell_type": "code",
   "execution_count": 9,
   "metadata": {
    "collapsed": true
   },
   "outputs": [],
   "source": [
    "datadir = os.path.join(os.environ['HOME'],'OneDrive - Colorado School of Mines\\\\Research\\\\MIDDMI\\\\TCO\\\\Data')\n",
    "srcpth = 'in'\n",
    "src = os.path.join(datadir,srcpth)\n",
    "destpth = 'Samples'\n",
    "dest = os.path.join(datadir,destpth)\n",
    "\n",
    "os.chdir(src)"
   ]
  },
  {
   "cell_type": "code",
   "execution_count": 20,
   "metadata": {},
   "outputs": [
    {
     "name": "stdout",
     "output_type": "stream",
     "text": [
      "Moved PDAC_COM3_01299_PeakArea_110.txt to C:\\Users\\jdhuang\\OneDrive - Colorado School of Mines\\Research\\MIDDMI\\TCO\\Data\\Samples\\PDAC_COM3_01299\\PDAC_COM3_01299_PeakArea_110.txt\n"
     ]
    }
   ],
   "source": [
    "varname = 'PeakArea_110'\n",
    "for fname in glob.glob('*' + varname + '.txt'):\n",
    "    lib = fname[0:15]\n",
    "    destlib = os.path.join(dest,lib)\n",
    "    cleanfname = lib + '_' + varname + '.txt' #std format filename\n",
    "    if os.path.exists(destlib):\n",
    "        copy(fname,os.path.join(destlib,cleanfname))\n",
    "        os.remove(fname)\n",
    "        print('Moved {} to {}'.format(fname,os.path.join(lib,cleanfname)))\n",
    "    else:\n",
    "        print('No library ' + lib)\n",
    "    "
   ]
  },
  {
   "cell_type": "code",
   "execution_count": 15,
   "metadata": {},
   "outputs": [
    {
     "data": {
      "text/plain": [
       "'PDAC_COM3_01299_PeakArea_110.txt'"
      ]
     },
     "execution_count": 15,
     "metadata": {},
     "output_type": "execute_result"
    }
   ],
   "source": [
    "cleanfname\n"
   ]
  },
  {
   "cell_type": "code",
   "execution_count": 21,
   "metadata": {},
   "outputs": [
    {
     "data": {
      "text/plain": [
       "'C:\\\\Users\\\\jdhuang\\\\OneDrive - Colorado School of Mines\\\\Research\\\\MIDDMI\\\\TCO\\\\Data\\\\in'"
      ]
     },
     "execution_count": 21,
     "metadata": {},
     "output_type": "execute_result"
    }
   ],
   "source": [
    "os.getcwd()\n"
   ]
  },
  {
   "cell_type": "code",
   "execution_count": 18,
   "metadata": {},
   "outputs": [
    {
     "data": {
      "text/plain": [
       "'A\\\\B\\\\C'"
      ]
     },
     "execution_count": 18,
     "metadata": {},
     "output_type": "execute_result"
    }
   ],
   "source": [
    "os.path.join('A','B','C')"
   ]
  },
  {
   "cell_type": "code",
   "execution_count": null,
   "metadata": {
    "collapsed": true
   },
   "outputs": [],
   "source": []
  }
 ],
 "metadata": {
  "kernelspec": {
   "display_name": "Python 3",
   "language": "python",
   "name": "python3"
  },
  "language_info": {
   "codemirror_mode": {
    "name": "ipython",
    "version": 3
   },
   "file_extension": ".py",
   "mimetype": "text/x-python",
   "name": "python",
   "nbconvert_exporter": "python",
   "pygments_lexer": "ipython3",
   "version": "3.6.3"
  }
 },
 "nbformat": 4,
 "nbformat_minor": 2
}
