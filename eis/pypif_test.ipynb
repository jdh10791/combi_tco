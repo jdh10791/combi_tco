{
 "cells": [
  {
   "cell_type": "code",
   "execution_count": 1,
   "metadata": {},
   "outputs": [],
   "source": [
    "import pandas as pd\n",
    "import numpy as np\n",
    "import os\n",
    "from pypif import pif\n",
    "from pypif.obj import *\n",
    "from citrination_client import CitrinationClient\n",
    "from calc_chemfeat import perovskite\n"
   ]
  },
  {
   "cell_type": "code",
   "execution_count": 2,
   "metadata": {},
   "outputs": [],
   "source": [
    "%load_ext autoreload\n",
    "%autoreload 2"
   ]
  },
  {
   "cell_type": "code",
   "execution_count": 3,
   "metadata": {},
   "outputs": [],
   "source": [
    "from calc_chemfeat import perovskite"
   ]
  },
  {
   "cell_type": "code",
   "execution_count": 8,
   "metadata": {},
   "outputs": [
    {
     "data": {
      "text/plain": [
       "<module 'pypif.pif' from 'C:\\\\Users\\\\jdhuang\\\\AppData\\\\Local\\\\Continuum\\\\anaconda3\\\\lib\\\\site-packages\\\\pypif\\\\pif.py'>"
      ]
     },
     "execution_count": 8,
     "metadata": {},
     "output_type": "execute_result"
    }
   ],
   "source": [
    "pif"
   ]
  },
  {
   "cell_type": "code",
   "execution_count": 2,
   "metadata": {},
   "outputs": [],
   "source": [
    "data = pd.DataFrame(columns=['Point','formula','E_a','R_p','T'])\n"
   ]
  },
  {
   "cell_type": "code",
   "execution_count": 3,
   "metadata": {},
   "outputs": [],
   "source": [
    "points = np.arange(0,5)\n",
    "base_formula = 'BaCo{}Fe{}O3'\n",
    "formula = []\n",
    "for pt in points:\n",
    "    x = pt/4\n",
    "    y = 1-x\n",
    "    f = base_formula.format(x,y)\n",
    "    formula.append(f)\n",
    "E_a = points*0.1\n",
    "R_p = points*10\n",
    "T = np.arange(350,400,10)"
   ]
  },
  {
   "cell_type": "code",
   "execution_count": 4,
   "metadata": {},
   "outputs": [
    {
     "data": {
      "text/html": [
       "<div>\n",
       "<style scoped>\n",
       "    .dataframe tbody tr th:only-of-type {\n",
       "        vertical-align: middle;\n",
       "    }\n",
       "\n",
       "    .dataframe tbody tr th {\n",
       "        vertical-align: top;\n",
       "    }\n",
       "\n",
       "    .dataframe thead th {\n",
       "        text-align: right;\n",
       "    }\n",
       "</style>\n",
       "<table border=\"1\" class=\"dataframe\">\n",
       "  <thead>\n",
       "    <tr style=\"text-align: right;\">\n",
       "      <th></th>\n",
       "      <th>Point</th>\n",
       "      <th>formula</th>\n",
       "      <th>E_a</th>\n",
       "      <th>R_p</th>\n",
       "      <th>T</th>\n",
       "    </tr>\n",
       "  </thead>\n",
       "  <tbody>\n",
       "    <tr>\n",
       "      <th>0</th>\n",
       "      <td>0</td>\n",
       "      <td>BaCo0.0Fe1.0O3</td>\n",
       "      <td>0.0</td>\n",
       "      <td>0</td>\n",
       "      <td>350</td>\n",
       "    </tr>\n",
       "    <tr>\n",
       "      <th>1</th>\n",
       "      <td>1</td>\n",
       "      <td>BaCo0.25Fe0.75O3</td>\n",
       "      <td>0.1</td>\n",
       "      <td>10</td>\n",
       "      <td>360</td>\n",
       "    </tr>\n",
       "    <tr>\n",
       "      <th>2</th>\n",
       "      <td>2</td>\n",
       "      <td>BaCo0.5Fe0.5O3</td>\n",
       "      <td>0.2</td>\n",
       "      <td>20</td>\n",
       "      <td>370</td>\n",
       "    </tr>\n",
       "    <tr>\n",
       "      <th>3</th>\n",
       "      <td>3</td>\n",
       "      <td>BaCo0.75Fe0.25O3</td>\n",
       "      <td>0.3</td>\n",
       "      <td>30</td>\n",
       "      <td>380</td>\n",
       "    </tr>\n",
       "    <tr>\n",
       "      <th>4</th>\n",
       "      <td>4</td>\n",
       "      <td>BaCo1.0Fe0.0O3</td>\n",
       "      <td>0.4</td>\n",
       "      <td>40</td>\n",
       "      <td>390</td>\n",
       "    </tr>\n",
       "  </tbody>\n",
       "</table>\n",
       "</div>"
      ],
      "text/plain": [
       "   Point           formula  E_a  R_p    T\n",
       "0      0    BaCo0.0Fe1.0O3  0.0    0  350\n",
       "1      1  BaCo0.25Fe0.75O3  0.1   10  360\n",
       "2      2    BaCo0.5Fe0.5O3  0.2   20  370\n",
       "3      3  BaCo0.75Fe0.25O3  0.3   30  380\n",
       "4      4    BaCo1.0Fe0.0O3  0.4   40  390"
      ]
     },
     "execution_count": 4,
     "metadata": {},
     "output_type": "execute_result"
    }
   ],
   "source": [
    "data['Point'] = points\n",
    "data['formula'] = formula\n",
    "data['E_a'] = E_a\n",
    "data['R_p'] = R_p\n",
    "data['T'] = T\n",
    "data"
   ]
  },
  {
   "cell_type": "code",
   "execution_count": 16,
   "metadata": {},
   "outputs": [
    {
     "name": "stdout",
     "output_type": "stream",
     "text": [
      "{\n",
      "    \"ids\": [\n",
      "        {\n",
      "            \"name\": \"Point\",\n",
      "            \"value\": 0.0\n",
      "        }\n",
      "    ],\n",
      "    \"properties\": [\n",
      "        {\n",
      "            \"name\": \"E_a\",\n",
      "            \"scalars\": 0.0,\n",
      "            \"units\": \"eV\",\n",
      "            \"conditions\": [\n",
      "                {\n",
      "                    \"name\": \"Temperature\",\n",
      "                    \"scalars\": 350.0,\n",
      "                    \"units\": \"K\"\n",
      "                }\n",
      "            ]\n",
      "        },\n",
      "        {\n",
      "            \"name\": \"R_p\",\n",
      "            \"scalars\": 0.0,\n",
      "            \"units\": \"$\\\\Omega$\",\n",
      "            \"conditions\": [\n",
      "                {\n",
      "                    \"name\": \"Temperature\",\n",
      "                    \"scalars\": 350.0,\n",
      "                    \"units\": \"K\"\n",
      "                }\n",
      "            ]\n",
      "        }\n",
      "    ],\n",
      "    \"category\": \"system.chemical\",\n",
      "    \"chemicalFormula\": \"BaCo0.0Fe1.0O3\"\n",
      "}\n",
      "{\n",
      "    \"ids\": [\n",
      "        {\n",
      "            \"name\": \"Point\",\n",
      "            \"value\": 1.0\n",
      "        }\n",
      "    ],\n",
      "    \"properties\": [\n",
      "        {\n",
      "            \"name\": \"E_a\",\n",
      "            \"scalars\": 0.1,\n",
      "            \"units\": \"eV\",\n",
      "            \"conditions\": [\n",
      "                {\n",
      "                    \"name\": \"Temperature\",\n",
      "                    \"scalars\": 360.0,\n",
      "                    \"units\": \"K\"\n",
      "                }\n",
      "            ]\n",
      "        },\n",
      "        {\n",
      "            \"name\": \"R_p\",\n",
      "            \"scalars\": 10.0,\n",
      "            \"units\": \"$\\\\Omega$\",\n",
      "            \"conditions\": [\n",
      "                {\n",
      "                    \"name\": \"Temperature\",\n",
      "                    \"scalars\": 360.0,\n",
      "                    \"units\": \"K\"\n",
      "                }\n",
      "            ]\n",
      "        }\n",
      "    ],\n",
      "    \"category\": \"system.chemical\",\n",
      "    \"chemicalFormula\": \"BaCo0.25Fe0.75O3\"\n",
      "}\n",
      "{\n",
      "    \"ids\": [\n",
      "        {\n",
      "            \"name\": \"Point\",\n",
      "            \"value\": 2.0\n",
      "        }\n",
      "    ],\n",
      "    \"properties\": [\n",
      "        {\n",
      "            \"name\": \"E_a\",\n",
      "            \"scalars\": 0.2,\n",
      "            \"units\": \"eV\",\n",
      "            \"conditions\": [\n",
      "                {\n",
      "                    \"name\": \"Temperature\",\n",
      "                    \"scalars\": 370.0,\n",
      "                    \"units\": \"K\"\n",
      "                }\n",
      "            ]\n",
      "        },\n",
      "        {\n",
      "            \"name\": \"R_p\",\n",
      "            \"scalars\": 20.0,\n",
      "            \"units\": \"$\\\\Omega$\",\n",
      "            \"conditions\": [\n",
      "                {\n",
      "                    \"name\": \"Temperature\",\n",
      "                    \"scalars\": 370.0,\n",
      "                    \"units\": \"K\"\n",
      "                }\n",
      "            ]\n",
      "        }\n",
      "    ],\n",
      "    \"category\": \"system.chemical\",\n",
      "    \"chemicalFormula\": \"BaCo0.5Fe0.5O3\"\n",
      "}\n",
      "{\n",
      "    \"ids\": [\n",
      "        {\n",
      "            \"name\": \"Point\",\n",
      "            \"value\": 3.0\n",
      "        }\n",
      "    ],\n",
      "    \"properties\": [\n",
      "        {\n",
      "            \"name\": \"E_a\",\n",
      "            \"scalars\": 0.30000000000000004,\n",
      "            \"units\": \"eV\",\n",
      "            \"conditions\": [\n",
      "                {\n",
      "                    \"name\": \"Temperature\",\n",
      "                    \"scalars\": 380.0,\n",
      "                    \"units\": \"K\"\n",
      "                }\n",
      "            ]\n",
      "        },\n",
      "        {\n",
      "            \"name\": \"R_p\",\n",
      "            \"scalars\": 30.0,\n",
      "            \"units\": \"$\\\\Omega$\",\n",
      "            \"conditions\": [\n",
      "                {\n",
      "                    \"name\": \"Temperature\",\n",
      "                    \"scalars\": 380.0,\n",
      "                    \"units\": \"K\"\n",
      "                }\n",
      "            ]\n",
      "        }\n",
      "    ],\n",
      "    \"category\": \"system.chemical\",\n",
      "    \"chemicalFormula\": \"BaCo0.75Fe0.25O3\"\n",
      "}\n",
      "{\n",
      "    \"ids\": [\n",
      "        {\n",
      "            \"name\": \"Point\",\n",
      "            \"value\": 4.0\n",
      "        }\n",
      "    ],\n",
      "    \"properties\": [\n",
      "        {\n",
      "            \"name\": \"E_a\",\n",
      "            \"scalars\": 0.4,\n",
      "            \"units\": \"eV\",\n",
      "            \"conditions\": [\n",
      "                {\n",
      "                    \"name\": \"Temperature\",\n",
      "                    \"scalars\": 390.0,\n",
      "                    \"units\": \"K\"\n",
      "                }\n",
      "            ]\n",
      "        },\n",
      "        {\n",
      "            \"name\": \"R_p\",\n",
      "            \"scalars\": 40.0,\n",
      "            \"units\": \"$\\\\Omega$\",\n",
      "            \"conditions\": [\n",
      "                {\n",
      "                    \"name\": \"Temperature\",\n",
      "                    \"scalars\": 390.0,\n",
      "                    \"units\": \"K\"\n",
      "                }\n",
      "            ]\n",
      "        }\n",
      "    ],\n",
      "    \"category\": \"system.chemical\",\n",
      "    \"chemicalFormula\": \"BaCo1.0Fe0.0O3\"\n",
      "}\n"
     ]
    }
   ],
   "source": [
    "outfile = 'pts.json'\n",
    "file = open(outfile,'w')\n",
    "for idx in data.index:\n",
    "    row = data.loc[idx,:]\n",
    "    row_pif = ChemicalSystem()\n",
    "    row_pif.chemical_formula = row['formula'] \n",
    "    Ea = Property(name='E_a',units='eV',scalars=float(row['E_a']))\n",
    "    Rp = Property(name='R_p',units='$\\Omega$',scalars=float(row['R_p']))\n",
    "    Ea.conditions = [Value(name='Temperature',units='K',scalars=float(row['T']))]\n",
    "    Rp.conditions = [Value(name='Temperature',units='K',scalars=float(row['T']))]\n",
    "    row_pif.properties = [Ea,Rp]\n",
    "    Point = Id(name='Point',value=float(row['Point']))\n",
    "    row_pif.ids = [Point]\n",
    "    print(pif.dumps(row_pif,indent=4))\n",
    "\n",
    "    pif.dump(row_pif,file)"
   ]
  },
  {
   "cell_type": "code",
   "execution_count": 27,
   "metadata": {},
   "outputs": [],
   "source": [
    "outfile = 'pt1.json'\n",
    "with open(outfile,'w') as file:\n",
    "    pif.dump(row_pif,file)"
   ]
  },
  {
   "cell_type": "code",
   "execution_count": 17,
   "metadata": {},
   "outputs": [],
   "source": [
    "client = CitrinationClient(os.environ['CITRINATION_API_KEY'],'https://citrination.com')\n",
    "\n",
    "#dataset = client.create_dataset(name='pypif test 2',description='Testing pypif and client data upload',public=0)\n",
    "dataset_id = 161964#json.loads(dataset.content)['id']\n",
    "\n",
    "result = client.upload(dataset_id,outfile)"
   ]
  },
  {
   "cell_type": "code",
   "execution_count": 21,
   "metadata": {},
   "outputs": [
    {
     "data": {
      "text/plain": [
       "['__class__',\n",
       " '__delattr__',\n",
       " '__dict__',\n",
       " '__dir__',\n",
       " '__doc__',\n",
       " '__eq__',\n",
       " '__format__',\n",
       " '__ge__',\n",
       " '__getattribute__',\n",
       " '__gt__',\n",
       " '__hash__',\n",
       " '__init__',\n",
       " '__init_subclass__',\n",
       " '__le__',\n",
       " '__lt__',\n",
       " '__module__',\n",
       " '__ne__',\n",
       " '__new__',\n",
       " '__reduce__',\n",
       " '__reduce_ex__',\n",
       " '__repr__',\n",
       " '__setattr__',\n",
       " '__sizeof__',\n",
       " '__str__',\n",
       " '__subclasshook__',\n",
       " '__weakref__',\n",
       " '_failures',\n",
       " '_successes',\n",
       " 'add_failure',\n",
       " 'add_success',\n",
       " 'failures',\n",
       " 'successes',\n",
       " 'successful']"
      ]
     },
     "execution_count": 21,
     "metadata": {},
     "output_type": "execute_result"
    }
   ],
   "source": [
    "dir(result)"
   ]
  },
  {
   "cell_type": "code",
   "execution_count": 28,
   "metadata": {},
   "outputs": [
    {
     "data": {
      "text/plain": [
       "{'_failures': [], '_successes': [{'path': 'pts.json'}]}"
      ]
     },
     "execution_count": 28,
     "metadata": {},
     "output_type": "execute_result"
    }
   ],
   "source": [
    "result.__dict__"
   ]
  },
  {
   "cell_type": "code",
   "execution_count": 30,
   "metadata": {},
   "outputs": [
    {
     "data": {
      "text/plain": [
       "['__class__',\n",
       " '__delattr__',\n",
       " '__dict__',\n",
       " '__dir__',\n",
       " '__doc__',\n",
       " '__eq__',\n",
       " '__format__',\n",
       " '__ge__',\n",
       " '__getattribute__',\n",
       " '__gt__',\n",
       " '__hash__',\n",
       " '__init__',\n",
       " '__init_subclass__',\n",
       " '__le__',\n",
       " '__lt__',\n",
       " '__module__',\n",
       " '__ne__',\n",
       " '__new__',\n",
       " '__reduce__',\n",
       " '__reduce_ex__',\n",
       " '__repr__',\n",
       " '__setattr__',\n",
       " '__sizeof__',\n",
       " '__str__',\n",
       " '__subclasshook__',\n",
       " '__weakref__',\n",
       " 'api_members',\n",
       " 'api_url',\n",
       " 'create_dataset',\n",
       " 'create_dataset_version',\n",
       " 'data',\n",
       " 'dataset_search',\n",
       " 'download_files',\n",
       " 'generate_simple_chemical_query',\n",
       " 'get_data_view',\n",
       " 'get_data_view_service_status',\n",
       " 'get_dataset_file',\n",
       " 'get_dataset_files',\n",
       " 'get_design_run_results',\n",
       " 'get_design_run_status',\n",
       " 'get_pif',\n",
       " 'headers',\n",
       " 'kill_design_run',\n",
       " 'list_files',\n",
       " 'matched_file_count',\n",
       " 'models',\n",
       " 'pif_multi_search',\n",
       " 'pif_search',\n",
       " 'predict',\n",
       " 'search',\n",
       " 'submit_design_run',\n",
       " 'suppress_warnings',\n",
       " 'tsne',\n",
       " 'update_dataset',\n",
       " 'upload']"
      ]
     },
     "execution_count": 30,
     "metadata": {},
     "output_type": "execute_result"
    }
   ],
   "source": [
    "dir(client)"
   ]
  },
  {
   "cell_type": "code",
   "execution_count": 49,
   "metadata": {},
   "outputs": [
    {
     "data": {
      "text/plain": [
       "b'{\"id\":161963,\"created_at\":\"2018-06-20T17:21:33.104Z\",\"name\":\"pypif test\",\"description\":\"Testing pypif and client data upload\",\"dataset_version\":[{\"dataset_scoped_id\":1,\"dataset_file\":[]}]}'"
      ]
     },
     "execution_count": 49,
     "metadata": {},
     "output_type": "execute_result"
    }
   ],
   "source": [
    "dataset.content"
   ]
  },
  {
   "cell_type": "code",
   "execution_count": 50,
   "metadata": {},
   "outputs": [],
   "source": [
    "import json"
   ]
  },
  {
   "cell_type": "code",
   "execution_count": 54,
   "metadata": {},
   "outputs": [
    {
     "data": {
      "text/plain": [
       "{'errors': {'name': [\"can't be the same as another dataset you own\"]},\n",
       " 'message': 'Unable to create data set.'}"
      ]
     },
     "execution_count": 54,
     "metadata": {},
     "output_type": "execute_result"
    }
   ],
   "source": [
    "json.loads(dataset.content)"
   ]
  },
  {
   "cell_type": "code",
   "execution_count": 31,
   "metadata": {},
   "outputs": [
    {
     "ename": "TypeError",
     "evalue": "dataset_search() missing 1 required positional argument: 'dataset_returning_query'",
     "output_type": "error",
     "traceback": [
      "\u001b[1;31m---------------------------------------------------------------------------\u001b[0m",
      "\u001b[1;31mTypeError\u001b[0m                                 Traceback (most recent call last)",
      "\u001b[1;32m<ipython-input-31-50b82b4296b6>\u001b[0m in \u001b[0;36m<module>\u001b[1;34m()\u001b[0m\n\u001b[1;32m----> 1\u001b[1;33m \u001b[0mclient\u001b[0m\u001b[1;33m.\u001b[0m\u001b[0mdataset_search\u001b[0m\u001b[1;33m(\u001b[0m\u001b[1;33m)\u001b[0m\u001b[1;33m\u001b[0m\u001b[0m\n\u001b[0m",
      "\u001b[1;32m~\\Anaconda3\\lib\\site-packages\\citrination_client\\client.py\u001b[0m in \u001b[0;36m<lambda>\u001b[1;34m(*args, **kw)\u001b[0m\n\u001b[0;32m     11\u001b[0m \u001b[1;32mdef\u001b[0m \u001b[0m_generate_lambda_proxy_method\u001b[0m\u001b[1;33m(\u001b[0m\u001b[0mclient\u001b[0m\u001b[1;33m,\u001b[0m \u001b[0mmethod_name\u001b[0m\u001b[1;33m)\u001b[0m\u001b[1;33m:\u001b[0m\u001b[1;33m\u001b[0m\u001b[0m\n\u001b[0;32m     12\u001b[0m     \u001b[0msubclient_m\u001b[0m \u001b[1;33m=\u001b[0m \u001b[0mgetattr\u001b[0m\u001b[1;33m(\u001b[0m\u001b[0mclient\u001b[0m\u001b[1;33m,\u001b[0m \u001b[0mmethod_name\u001b[0m\u001b[1;33m)\u001b[0m\u001b[1;33m\u001b[0m\u001b[0m\n\u001b[1;32m---> 13\u001b[1;33m     \u001b[1;32mreturn\u001b[0m \u001b[1;32mlambda\u001b[0m \u001b[1;33m*\u001b[0m\u001b[0margs\u001b[0m\u001b[1;33m,\u001b[0m \u001b[1;33m**\u001b[0m\u001b[0mkw\u001b[0m\u001b[1;33m:\u001b[0m \u001b[0msubclient_m\u001b[0m\u001b[1;33m(\u001b[0m\u001b[1;33m*\u001b[0m\u001b[0margs\u001b[0m\u001b[1;33m,\u001b[0m \u001b[1;33m**\u001b[0m\u001b[0mkw\u001b[0m\u001b[1;33m)\u001b[0m\u001b[1;33m\u001b[0m\u001b[0m\n\u001b[0m\u001b[0;32m     14\u001b[0m \u001b[1;33m\u001b[0m\u001b[0m\n\u001b[0;32m     15\u001b[0m \u001b[1;32mclass\u001b[0m \u001b[0mCitrinationClient\u001b[0m\u001b[1;33m(\u001b[0m\u001b[0mobject\u001b[0m\u001b[1;33m)\u001b[0m\u001b[1;33m:\u001b[0m\u001b[1;33m\u001b[0m\u001b[0m\n",
      "\u001b[1;31mTypeError\u001b[0m: dataset_search() missing 1 required positional argument: 'dataset_returning_query'"
     ]
    }
   ],
   "source": [
    "client.dataset_search()"
   ]
  },
  {
   "cell_type": "code",
   "execution_count": 10,
   "metadata": {},
   "outputs": [
    {
     "name": "stdout",
     "output_type": "stream",
     "text": [
      "called set_ox_combos\n",
      "Ba1O1.0\n",
      "Zr1O2.0\n",
      "Set Co:Fe_ratio to 1000 due to ZeroDivisionError (no Fe)\n"
     ]
    },
    {
     "data": {
      "text/plain": [
       "{'A:B_ratio': 1.0,\n",
       " 'A_sum': 1.0,\n",
       " 'B_sum': 1.0,\n",
       " 'Ba_amt': 1.0,\n",
       " 'Co:Fe_ratio': 1000,\n",
       " 'Co_amt': 0.0,\n",
       " 'Fe_amt': 0.0,\n",
       " 'MO_ABE': -448.82250000000005,\n",
       " 'MO_IC_a': 0.8032113561415081,\n",
       " 'MO_IC_avg': 0.7373239023037943,\n",
       " 'MO_IC_b': 0.6714364484660806,\n",
       " 'O_delta_oxavg': 0.0,\n",
       " 'O_delta_oxmax': 0.0,\n",
       " 'O_delta_oxmin': 0.0,\n",
       " 'X_a': 0.89,\n",
       " 'X_avg': 1.11,\n",
       " 'X_b': 1.33,\n",
       " 'X_cat_a_oxavg': 0.7715751707110065,\n",
       " 'X_cat_a_oxmax': 0.7715751707110065,\n",
       " 'X_cat_a_oxmin': 0.7715751707110065,\n",
       " 'X_cat_b_oxavg': 7.71604938271605,\n",
       " 'X_cat_b_oxmax': 7.71604938271605,\n",
       " 'X_cat_b_oxmin': 7.71604938271605,\n",
       " 'Y_amt': 0.0,\n",
       " 'Zr_amt': 1.0,\n",
       " 'acceptor_magnitude': 0.0,\n",
       " 'alat_oxavg': 4.256782822743016,\n",
       " 'alat_oxmax': 4.256782822743016,\n",
       " 'alat_oxmin': 4.256782822743016,\n",
       " 'goldschmidt_oxavg': 1.0039582129110884,\n",
       " 'goldschmidt_oxmax': 1.0039582129110884,\n",
       " 'goldschmidt_oxmin': 1.0039582129110884,\n",
       " 'mass_a': 137.327,\n",
       " 'mass_avg': 114.2755,\n",
       " 'mass_b': 91.224,\n",
       " 'n_a_oxavg': 2.0,\n",
       " 'n_a_oxmax': 2.0,\n",
       " 'n_a_oxmin': 2.0,\n",
       " 'n_b_oxavg': 4.0,\n",
       " 'n_b_oxmax': 4.0,\n",
       " 'n_b_oxmin': 4.0,\n",
       " 'r_a_oxavg': 1.61,\n",
       " 'r_a_oxmax': 1.61,\n",
       " 'r_a_oxmin': 1.61,\n",
       " 'r_b_oxavg': 0.72,\n",
       " 'r_b_oxmax': 0.72,\n",
       " 'r_b_oxmin': 0.72,\n",
       " 'r_b_std_oxavg': 0.0,\n",
       " 'r_b_std_oxmax': 0.0,\n",
       " 'r_b_std_oxmin': 0.0,\n",
       " 'r_crit_oxavg': 0.920775641025641,\n",
       " 'r_crit_oxmax': 0.920775641025641,\n",
       " 'r_crit_oxmin': 0.920775641025641,\n",
       " 'tau_oxavg': 3.5018070336183067,\n",
       " 'tau_oxmax': 3.5018070336183067,\n",
       " 'tau_oxmin': 3.5018070336183067,\n",
       " 'tot_cat_charge_oxavg': 6.0,\n",
       " 'tot_cat_charge_oxmax': 6.0,\n",
       " 'tot_cat_charge_oxmin': 6.0,\n",
       " 'trans_met_amt': 0.0,\n",
       " 'uc_vol_free_oxavg': 23.607178997889186,\n",
       " 'uc_vol_free_oxmax': 23.607178997889186,\n",
       " 'uc_vol_free_oxmin': 23.607178997889186,\n",
       " 'uc_vol_oxavg': 77.13375610466801,\n",
       " 'uc_vol_oxmax': 77.13375610466801,\n",
       " 'uc_vol_oxmin': 77.13375610466801}"
      ]
     },
     "execution_count": 10,
     "metadata": {},
     "output_type": "execute_result"
    }
   ],
   "source": [
    "pk.featurize()"
   ]
  },
  {
   "cell_type": "code",
   "execution_count": null,
   "metadata": {},
   "outputs": [],
   "source": []
  }
 ],
 "metadata": {
  "kernelspec": {
   "display_name": "Python 3",
   "language": "python",
   "name": "python3"
  },
  "language_info": {
   "codemirror_mode": {
    "name": "ipython",
    "version": 3
   },
   "file_extension": ".py",
   "mimetype": "text/x-python",
   "name": "python",
   "nbconvert_exporter": "python",
   "pygments_lexer": "ipython3",
   "version": "3.6.5"
  }
 },
 "nbformat": 4,
 "nbformat_minor": 2
}
