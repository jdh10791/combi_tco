{
 "cells": [
  {
   "cell_type": "code",
   "execution_count": 51,
   "metadata": {},
   "outputs": [],
   "source": [
    "import numpy as np\n",
    "import pandas as pd\n",
    "import matplotlib.pyplot as plt\n",
    "%matplotlib inline\n",
    "import os\n",
    "import glob\n",
    "import helpers.fileload as fl\n",
    "from helpers.calc_chemfeat import perovskite\n",
    "from pypif import pif\n",
    "from pypif.obj import *\n",
    "import copy\n",
    "from citrination_client import CitrinationClient"
   ]
  },
  {
   "cell_type": "code",
   "execution_count": 22,
   "metadata": {},
   "outputs": [],
   "source": [
    "tcodir = os.path.join(os.environ['HOME'],'OneDrive - Colorado School of Mines/Research/MIDDMI/TCO')\n",
    "datadir = os.path.join(tcodir,'data/conductivity') #data/EIS_data\n",
    "pifdir = os.path.join(datadir,'pifs')\n",
    "\n",
    "def sampledir(sample,src):\n",
    "    return os.path.join(datadir,src,sample)"
   ]
  },
  {
   "cell_type": "code",
   "execution_count": 86,
   "metadata": {},
   "outputs": [
    {
     "name": "stdout",
     "output_type": "stream",
     "text": [
      "Dumped 132 pifs in PDAC_COM3_01251_pif.json\n",
      "Dumped 130 pifs in PDAC_COM3_01251_oxavg_pif.json\n",
      "Dumped 132 pifs in PDAC_COM3_01254_pif.json\n",
      "Dumped 132 pifs in PDAC_COM3_01254_oxavg_pif.json\n",
      "Dumped 132 pifs in PDAC_COM3_01255_pif.json\n",
      "Dumped 131 pifs in PDAC_COM3_01255_oxavg_pif.json\n",
      "Dumped 132 pifs in PDAC_COM3_01256_pif.json\n",
      "Dumped 131 pifs in PDAC_COM3_01256_oxavg_pif.json\n"
     ]
    }
   ],
   "source": [
    "src = 'in'\n",
    "samples = next(os.walk(os.path.join(datadir,src)))[1]\n",
    "for sample in samples:\n",
    "    df = fl.load_sample_files(sampledir(sample,src),info_filter={'T_set':['500C'],'atm':'dry'})\n",
    "    fl.get_formula(df,overwrite=True)\n",
    "\n",
    "    outfile = os.path.join(pifdir,'{}_pif.json'.format(sample))\n",
    "    file = open(outfile,'w')\n",
    "    oxavg_pifs = []\n",
    "\n",
    "    for idx in df.index:\n",
    "        row = df.loc[idx,:]\n",
    "        if row['Sigma_elec'] > 0:\n",
    "            row_pif = ChemicalSystem()\n",
    "            \"Identifiers\"\n",
    "            sample_num = Id(name='Sample', value=sample[-5:])\n",
    "            point = Id(name='Point',value=int(row['Point'])) #multipart index (point,formula)\n",
    "            row_pif.ids = [sample_num, point]\n",
    "            \"Formula\"\n",
    "            row_pif.chemical_formula = row['formula'] #multipart index (point,formula)\n",
    "            \"Properties\"\n",
    "            #output properties - \"labels\"\n",
    "            sigma = Property(name='$\\sigma_{elec}$',units='S/cm',scalars=row['Sigma_elec'])\n",
    "            sigma.conditions = [Value(name='Temperature ($^\\circ$C)',scalars=int(row['Temp_C'])),\n",
    "                                Value(name='Atmosphere',scalars=row['atm'])]\n",
    "            props = [sigma]\n",
    "            #input propertes - \"features\"\n",
    "            pvskt = perovskite(formula=row['formula'], site_ox_lim={'A':[2,4],'B':[3,4]},site_base_ox={'A':2,'B':4})\n",
    "            pvskt.set_cat_ox_lim('Co',[2,3])\n",
    "            pvskt.featurize()\n",
    "            props_oxavg = props.copy()\n",
    "            #filtered_feat = {k:v for (k,v) in pvskt.features.items() if k[-5:] not in ['oxmin','oxmax']}\n",
    "            for feat, val in pvskt.features.items():\n",
    "                prop = Property(name=feat,scalars=val)\n",
    "                props.append(prop)\n",
    "                if feat[-5:] not in ['oxmin','oxmax'] and feat[0:7]!='O_delta':\n",
    "                    props_oxavg.append(prop)\n",
    "            row_pif_oxavg = copy.copy(row_pif)\n",
    "            row_pif.properties = props\n",
    "            row_pif_oxavg.properties = props_oxavg\n",
    "            oxavg_pifs.append(row_pif_oxavg)\n",
    "            pif.dump(row_pif,file)\n",
    "\n",
    "    file.close()    \n",
    "    print('Dumped {} pifs in {}'.format(len(df), os.path.basename(outfile)))\n",
    "\n",
    "    oxavg_outfile = os.path.join(pifdir,'{}_oxavg_pif.json'.format(sample))\n",
    "    oxavg_file = open(oxavg_outfile,'w')\n",
    "    for rp in oxavg_pifs:\n",
    "        pif.dump(rp,oxavg_file)\n",
    "    oxavg_file.close()\n",
    "    print('Dumped {} pifs in {}'.format(len(oxavg_pifs), os.path.basename(oxavg_outfile)))\n"
   ]
  },
  {
   "cell_type": "code",
   "execution_count": 54,
   "metadata": {},
   "outputs": [
    {
     "data": {
      "text/plain": [
       "(162724, 162725)"
      ]
     },
     "execution_count": 54,
     "metadata": {},
     "output_type": "execute_result"
    }
   ],
   "source": [
    "\"create dataset if not existing\"\n",
    "# client = CitrinationClient(os.environ['CITRINATION_API_KEY'],'https://citrination.com')\n",
    "# dataset = client.create_dataset(name='tco_sigma_elec_full',\n",
    "#                                 description='Electrical conductivity for TCO thin films with all features',\n",
    "#                                 public=0)\n",
    "\n",
    "# dataset2 = client.create_dataset(name='tco_sigma_elec_oxavg',\n",
    "#                                 description='Electrical conductivity for TCO thin films with oxavg features only',\n",
    "#                                 public=0)\n",
    "\n",
    "# dataset.id, dataset2.id"
   ]
  },
  {
   "cell_type": "code",
   "execution_count": 87,
   "metadata": {},
   "outputs": [
    {
     "data": {
      "text/plain": [
       "([{'_failures': [],\n",
       "   '_successes': [{'path': 'C:\\\\Users\\\\jdhuang\\\\OneDrive - Colorado School of Mines/Research/MIDDMI/TCO\\\\data/conductivity\\\\pifs\\\\PDAC_COM3_01251_pif.json'}]},\n",
       "  {'_failures': [],\n",
       "   '_successes': [{'path': 'C:\\\\Users\\\\jdhuang\\\\OneDrive - Colorado School of Mines/Research/MIDDMI/TCO\\\\data/conductivity\\\\pifs\\\\PDAC_COM3_01254_pif.json'}]},\n",
       "  {'_failures': [],\n",
       "   '_successes': [{'path': 'C:\\\\Users\\\\jdhuang\\\\OneDrive - Colorado School of Mines/Research/MIDDMI/TCO\\\\data/conductivity\\\\pifs\\\\PDAC_COM3_01255_pif.json'}]},\n",
       "  {'_failures': [],\n",
       "   '_successes': [{'path': 'C:\\\\Users\\\\jdhuang\\\\OneDrive - Colorado School of Mines/Research/MIDDMI/TCO\\\\data/conductivity\\\\pifs\\\\PDAC_COM3_01256_pif.json'}]}],\n",
       " [{'_failures': [],\n",
       "   '_successes': [{'path': 'C:\\\\Users\\\\jdhuang\\\\OneDrive - Colorado School of Mines/Research/MIDDMI/TCO\\\\data/conductivity\\\\pifs\\\\PDAC_COM3_01251_oxavg_pif.json'}]},\n",
       "  {'_failures': [],\n",
       "   '_successes': [{'path': 'C:\\\\Users\\\\jdhuang\\\\OneDrive - Colorado School of Mines/Research/MIDDMI/TCO\\\\data/conductivity\\\\pifs\\\\PDAC_COM3_01254_oxavg_pif.json'}]},\n",
       "  {'_failures': [],\n",
       "   '_successes': [{'path': 'C:\\\\Users\\\\jdhuang\\\\OneDrive - Colorado School of Mines/Research/MIDDMI/TCO\\\\data/conductivity\\\\pifs\\\\PDAC_COM3_01255_oxavg_pif.json'}]},\n",
       "  {'_failures': [],\n",
       "   '_successes': [{'path': 'C:\\\\Users\\\\jdhuang\\\\OneDrive - Colorado School of Mines/Research/MIDDMI/TCO\\\\data/conductivity\\\\pifs\\\\PDAC_COM3_01256_oxavg_pif.json'}]}])"
      ]
     },
     "execution_count": 87,
     "metadata": {},
     "output_type": "execute_result"
    }
   ],
   "source": [
    "\"Upload pifs\"\n",
    "client = CitrinationClient(os.environ['CITRINATION_API_KEY'],'https://citrination.com')\n",
    "dsid1 = 162724 #full\n",
    "dsid2 = 162725 #oxavg only\n",
    "\n",
    "results1 = []\n",
    "results2 = []\n",
    "\n",
    "for file in glob.glob(os.path.join(pifdir,'*.json')):\n",
    "    filename = os.path.basename(file)\n",
    "    if file.find('oxavg') >= 0:\n",
    "        result = client.upload(dsid2,file)\n",
    "        results2.append(result)\n",
    "        #print('oxavg: {}'.format(filename))\n",
    "    else:\n",
    "        result = client.upload(dsid1,file)\n",
    "        results1.append(result)\n",
    "        #print('full: ' + filename)\n",
    "        \n",
    "[r.__dict__ for r in results1], [r.__dict__ for r in results2]"
   ]
  },
  {
   "cell_type": "code",
   "execution_count": 97,
   "metadata": {},
   "outputs": [
    {
     "data": {
      "text/plain": [
       "162726"
      ]
     },
     "execution_count": 97,
     "metadata": {},
     "output_type": "execute_result"
    }
   ],
   "source": [
    "\"dataset excluding 01255\"\n",
    "dataset3 = client.create_dataset(name='tco_sigma_elec_excl01255',\n",
    "                                description='Electrical conductivity for TCO thin films with oxavg features only and 01255 excluded',\n",
    "                                public=0)\n",
    "dataset3.id"
   ]
  },
  {
   "cell_type": "code",
   "execution_count": 100,
   "metadata": {},
   "outputs": [
    {
     "name": "stdout",
     "output_type": "stream",
     "text": [
      "PDAC_COM3_01251_oxavg_pif.json\n",
      "PDAC_COM3_01254_oxavg_pif.json\n",
      "PDAC_COM3_01256_oxavg_pif.json\n"
     ]
    },
    {
     "data": {
      "text/plain": [
       "[{'_failures': [],\n",
       "  '_successes': [{'path': 'C:\\\\Users\\\\jdhuang\\\\OneDrive - Colorado School of Mines/Research/MIDDMI/TCO\\\\data/conductivity\\\\pifs\\\\PDAC_COM3_01251_oxavg_pif.json'}]},\n",
       " {'_failures': [],\n",
       "  '_successes': [{'path': 'C:\\\\Users\\\\jdhuang\\\\OneDrive - Colorado School of Mines/Research/MIDDMI/TCO\\\\data/conductivity\\\\pifs\\\\PDAC_COM3_01254_oxavg_pif.json'}]},\n",
       " {'_failures': [],\n",
       "  '_successes': [{'path': 'C:\\\\Users\\\\jdhuang\\\\OneDrive - Colorado School of Mines/Research/MIDDMI/TCO\\\\data/conductivity\\\\pifs\\\\PDAC_COM3_01256_oxavg_pif.json'}]}]"
      ]
     },
     "execution_count": 100,
     "metadata": {},
     "output_type": "execute_result"
    }
   ],
   "source": [
    "\"Upload pifs to dataset 3\"\n",
    "dsid3 = 162726 #oxavg only, exclude 01255\n",
    "\n",
    "results3 = []\n",
    "\n",
    "for file in glob.glob(os.path.join(pifdir,'*.json')):\n",
    "    filename = os.path.basename(file)\n",
    "    if file.find('oxavg') >= 0 and file.find('01255')==-1:\n",
    "        result = client.upload(dsid3,file)\n",
    "        results3.append(result)\n",
    "        print(filename)\n",
    "        \n",
    "[r.__dict__ for r in results3]"
   ]
  },
  {
   "cell_type": "code",
   "execution_count": 90,
   "metadata": {},
   "outputs": [],
   "source": [
    "data = pd.DataFrame()\n",
    "samples = next(os.walk(os.path.join(datadir,src)))[1]\n",
    "for sample in samples:\n",
    "    df = fl.load_sample_files(sampledir(sample,src),info_filter={'T_set':['500C'],'atm':'dry'})\n",
    "    df['sample'] = sample\n",
    "    data = data.append(df,sort=True)\n",
    "    \n",
    "neg = data.loc[data['Sigma_elec']<=0,:]\n",
    "pos = data.loc[data['Sigma_elec']>=0,:]\n"
   ]
  },
  {
   "cell_type": "code",
   "execution_count": 85,
   "metadata": {},
   "outputs": [
    {
     "data": {
      "text/plain": [
       "<matplotlib.axes._subplots.AxesSubplot at 0x27e08bec4e0>"
      ]
     },
     "execution_count": 85,
     "metadata": {},
     "output_type": "execute_result"
    },
    {
     "data": {
      "image/png": "[encoded data removed]",
      "text/plain": [
       "<Figure size 432x288 with 1 Axes>"
      ]
     },
     "metadata": {},
     "output_type": "display_data"
    }
   ],
   "source": [
    "bins = np.arange(0,5e-5,1e-5)\n",
    "pos['Sigma_elec'].hist(bins=bins)"
   ]
  },
  {
   "cell_type": "code",
   "execution_count": 96,
   "metadata": {},
   "outputs": [
    {
     "name": "stdout",
     "output_type": "stream",
     "text": [
      "PDAC_COM3_01251 3\n",
      "PDAC_COM3_01254 22\n",
      "PDAC_COM3_01255 131\n",
      "PDAC_COM3_01256 1\n"
     ]
    }
   ],
   "source": [
    "low = data.loc[data['Sigma_elec']<5e-6,:]\n",
    "for s in low['sample'].unique():\n",
    "    print(s,len(low[low['sample']==s]))"
   ]
  },
  {
   "cell_type": "code",
   "execution_count": null,
   "metadata": {},
   "outputs": [],
   "source": []
  }
 ],
 "metadata": {
  "kernelspec": {
   "display_name": "Python 3",
   "language": "python",
   "name": "python3"
  },
  "language_info": {
   "codemirror_mode": {
    "name": "ipython",
    "version": 3
   },
   "file_extension": ".py",
   "mimetype": "text/x-python",
   "name": "python",
   "nbconvert_exporter": "python",
   "pygments_lexer": "ipython3",
   "version": "3.6.4"
  }
 },
 "nbformat": 4,
 "nbformat_minor": 2
}
