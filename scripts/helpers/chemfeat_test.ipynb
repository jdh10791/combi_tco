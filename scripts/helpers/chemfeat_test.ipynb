{
 "cells": [
  {
   "cell_type": "markdown",
   "metadata": {},
   "source": [
    "# Test of calc_chemfeat2"
   ]
  },
  {
   "cell_type": "code",
   "execution_count": 135,
   "metadata": {},
   "outputs": [
    {
     "name": "stdout",
     "output_type": "stream",
     "text": [
      "The autoreload extension is already loaded. To reload it, use:\n",
      "  %reload_ext autoreload\n"
     ]
    }
   ],
   "source": [
    "import pymatgen as mg\n",
    "import numpy as np\n",
    "import matplotlib.pyplot as plt\n",
    "import pandas as pd\n",
    "%matplotlib inline\n",
    "\n",
    "from pymatgen.ext.matproj import MPRester\n",
    "import os\n",
    "from calc_chemfeat_2 import MatProjCalc, Perovskite\n",
    "from calc_chemfeat import matproj_calc \n",
    "\n",
    "from matminer.featurizers.conversions import StrToComposition\n",
    "from matminer.featurizers.composition import CohesiveEnergy\n",
    "from matminer.utils.data import CohesiveEnergyData\n",
    "\n",
    "%load_ext autoreload\n",
    "%autoreload 2"
   ]
  },
  {
   "cell_type": "code",
   "execution_count": 136,
   "metadata": {},
   "outputs": [],
   "source": [
    "formulas = ['BaCo0.4Fe0.4Zr0.1Y0.1O3',\n",
    "            'BaCo0.3Fe0.5Zr0.1Y0.1O3',\n",
    "            'BaCo0.5Fe0.3Zr0.1Y0.1O3',\n",
    "            'BaCo0.1Fe0.1Zr0.7Y0.1O3',\n",
    "            'BaCo0.1Fe0.1Zr0.1Y0.7O3']\n",
    "\n",
    "A_site = ['Ba']\n",
    "B_site = ['Co','Fe','Zr','Y','Ce']\n",
    "\n",
    "mpo = matproj_calc()\n",
    "mp = MatProjCalc()\n",
    "\n"
   ]
  },
  {
   "cell_type": "code",
   "execution_count": null,
   "metadata": {},
   "outputs": [],
   "source": [
    "#"
   ]
  },
  {
   "cell_type": "markdown",
   "metadata": {},
   "source": [
    "# tolerance factor analysis"
   ]
  },
  {
   "cell_type": "code",
   "execution_count": 130,
   "metadata": {},
   "outputs": [
    {
     "name": "stdout",
     "output_type": "stream",
     "text": [
      "3.8707025202151617 3.8707025202151613\n"
     ]
    },
    {
     "data": {
      "text/plain": [
       "0.4186046511627907"
      ]
     },
     "execution_count": 130,
     "metadata": {},
     "output_type": "execute_result"
    }
   ],
   "source": [
    "radius_type = 'crystal_radius'\n",
    "\n",
    "cat_ox = {'Co':2,'Fe':3,'Zr':4,'Y':3}\n",
    "\n",
    "B_comp = mg.Composition('Co0.4Fe0.4Zr0.1Y0.1')\n",
    "B_ead = B_comp.get_el_amt_dict()\n",
    "\n",
    "rx = mg.Element('O').data['Shannon radii']['-2']['VI'][''][radius_type]\n",
    "ra = mg.Element('Ba').data['Shannon radii']['2']['XII'][''][radius_type]\n",
    "rb = (B_ead['Co']*mg.Element('Co').data['Shannon radii']['2']['VI']['High Spin'][radius_type] + \\\n",
    "    B_ead['Fe']*mg.Element('Fe').data['Shannon radii']['3']['VI']['High Spin'][radius_type] + \\\n",
    "    B_ead['Zr']*mg.Element('Zr').data['Shannon radii']['4']['VI'][''][radius_type] + \\\n",
    "    B_ead['Y']*mg.Element('Y').data['Shannon radii']['3']['VI'][''][radius_type])\n",
    "\n",
    "gs = (ra+rx)/(2**0.5*(rb+rx))\n",
    "gs\n",
    "\n",
    "tot_cat_charge = 2 + sum([cat_ox[cat]*amt for cat,amt in B_ead.items()])\n",
    "O_delta = 3 - tot_cat_charge/2\n",
    "\n",
    "2**0.5*(ra+rx), 2*(rb+rx)\n",
    "tot_cat_charge, O_delta\n",
    "\n",
    "if gs > 1:\n",
    "    rx_wt = rx/(rx+ra)\n",
    "    alat = 2**0.5*(ra+rx*(1-O_delta/3))\n",
    "    alat2 = 2**0.5*(ra+rx)*(1-rx_wt*O_delta/3)\n",
    "    print(alat, alat2)\n",
    "else:\n",
    "    rx_wt = rx/(rx+rb)\n",
    "    \n",
    "rx_wt"
   ]
  },
  {
   "cell_type": "code",
   "execution_count": 123,
   "metadata": {},
   "outputs": [
    {
     "data": {
      "text/plain": [
       "['__abstractmethods__',\n",
       " '__add__',\n",
       " '__class__',\n",
       " '__contains__',\n",
       " '__delattr__',\n",
       " '__dict__',\n",
       " '__dir__',\n",
       " '__div__',\n",
       " '__doc__',\n",
       " '__eq__',\n",
       " '__format__',\n",
       " '__ge__',\n",
       " '__getattribute__',\n",
       " '__getitem__',\n",
       " '__gt__',\n",
       " '__hash__',\n",
       " '__init__',\n",
       " '__init_subclass__',\n",
       " '__iter__',\n",
       " '__le__',\n",
       " '__len__',\n",
       " '__lt__',\n",
       " '__module__',\n",
       " '__mul__',\n",
       " '__ne__',\n",
       " '__new__',\n",
       " '__reduce__',\n",
       " '__reduce_ex__',\n",
       " '__repr__',\n",
       " '__reversed__',\n",
       " '__rmul__',\n",
       " '__setattr__',\n",
       " '__sizeof__',\n",
       " '__slotnames__',\n",
       " '__slots__',\n",
       " '__str__',\n",
       " '__sub__',\n",
       " '__subclasshook__',\n",
       " '__truediv__',\n",
       " '__weakref__',\n",
       " '_abc_cache',\n",
       " '_abc_negative_cache',\n",
       " '_abc_negative_cache_version',\n",
       " '_abc_registry',\n",
       " '_comps_from_fuzzy_formula',\n",
       " '_data',\n",
       " '_get_oxid_state_guesses',\n",
       " '_natoms',\n",
       " '_parse_formula',\n",
       " 'add_charges_from_oxi_state_guesses',\n",
       " 'allow_negative',\n",
       " 'almost_equals',\n",
       " 'alphabetical_formula',\n",
       " 'amount_tolerance',\n",
       " 'anonymized_formula',\n",
       " 'as_dict',\n",
       " 'average_electroneg',\n",
       " 'copy',\n",
       " 'element_composition',\n",
       " 'elements',\n",
       " 'formula',\n",
       " 'fractional_composition',\n",
       " 'from_dict',\n",
       " 'get',\n",
       " 'get_atomic_fraction',\n",
       " 'get_el_amt_dict',\n",
       " 'get_integer_formula_and_factor',\n",
       " 'get_reduced_composition_and_factor',\n",
       " 'get_reduced_formula_and_factor',\n",
       " 'get_wt_fraction',\n",
       " 'hill_formula',\n",
       " 'is_element',\n",
       " 'items',\n",
       " 'iupac_formula',\n",
       " 'keys',\n",
       " 'num_atoms',\n",
       " 'oxi_prob',\n",
       " 'oxi_state_guesses',\n",
       " 'ranked_compositions_from_indeterminate_formula',\n",
       " 'reduced_composition',\n",
       " 'reduced_formula',\n",
       " 'special_formulas',\n",
       " 'to_data_dict',\n",
       " 'to_json',\n",
       " 'to_reduced_dict',\n",
       " 'total_electrons',\n",
       " 'values',\n",
       " 'weight']"
      ]
     },
     "execution_count": 123,
     "metadata": {},
     "output_type": "execute_result"
    }
   ],
   "source": [
    "dir(B_comp)"
   ]
  },
  {
   "cell_type": "code",
   "execution_count": 101,
   "metadata": {},
   "outputs": [
    {
     "name": "stdout",
     "output_type": "stream",
     "text": [
      "this ran\n",
      "fixed: Ba 2 XII\n",
      "fixed: Zr 4 VI\n",
      "fixed: Y 3 VI\n",
      "multi: Co 2 VI\n",
      "multi: Co 3 VI\n",
      "multi: Co 4 VI\n",
      "multi: Fe 2 VI\n",
      "multi: Fe 3 VI\n",
      "multi: Fe 4 VI\n",
      "Created MPRester instance\n",
      "Formation enthalpy for BaO includes data from phases: cubic, solid\n",
      "Formation enthalpy for Ba includes data from phases: gas\n",
      "Formation enthalpy for Co3O4 includes data from phases: cubic, solid\n",
      "Formation enthalpy for Co includes data from phases: gas\n",
      "Formation enthalpy for Fe2O3 includes data from phases: hemat, solid\n",
      "Formation enthalpy for Fe includes data from phases: gas\n",
      "Formation enthalpy for ZrO2 includes data from phases: monocl\n",
      "Formation enthalpy for Zr includes data from phases: gas\n",
      "Formation enthalpy for Y2O3 includes data from phases: cubic\n",
      "Formation enthalpy for Y includes data from phases: gas\n"
     ]
    },
    {
     "data": {
      "text/plain": [
       "{'A:B_ratio': 1.0,\n",
       " 'A_sum': 1.0,\n",
       " 'B_sum': 1.0,\n",
       " 'Ba_amt': 1.0,\n",
       " 'Co:Fe_ratio': 1.0,\n",
       " 'Co_amt': 0.4,\n",
       " 'Fe_amt': 0.4,\n",
       " 'MO_ABE': -298.1247222222222,\n",
       " 'MO_IC_a': 0.8032113561415081,\n",
       " 'MO_IC_avg': 0.6571337776642917,\n",
       " 'MO_IC_b': 0.5110561991870753,\n",
       " 'O_delta_oxavg': 0.4499999999999999,\n",
       " 'O_delta_oxmax': 0.8500000000000001,\n",
       " 'O_delta_oxmin': 0.04999999999999982,\n",
       " 'X_a': 0.89,\n",
       " 'X_avg': 1.3145,\n",
       " 'X_b': 1.7389999999999999,\n",
       " 'X_cat_a_oxavg': 0.6530612244897959,\n",
       " 'X_cat_a_oxmax': 0.6530612244897959,\n",
       " 'X_cat_a_oxmin': 0.6530612244897959,\n",
       " 'X_cat_b_oxavg': 5.036711376865506,\n",
       " 'X_cat_b_oxmax': 7.426463201484913,\n",
       " 'X_cat_b_oxmin': 2.7847971863264624,\n",
       " 'Y_amt': 0.1,\n",
       " 'Zr_amt': 0.1,\n",
       " 'acceptor_magnitude': -0.1,\n",
       " 'alat_oxavg': 4.266473620216015,\n",
       " 'alat_oxmax': 4.344,\n",
       " 'alat_oxmin': 4.256782822743016,\n",
       " 'goldschmidt_oxavg': 1.0231555135769757,\n",
       " 'goldschmidt_oxmax': 1.0599558821571253,\n",
       " 'goldschmidt_oxmin': 0.9799223809261085,\n",
       " 'mass_a': 137.327,\n",
       " 'mass_avg': 100.6256315,\n",
       " 'mass_b': 63.924263,\n",
       " 'n_a_oxavg': 2.0,\n",
       " 'n_a_oxmax': 2.0,\n",
       " 'n_a_oxmin': 2.0,\n",
       " 'n_b_oxavg': 3.0999999999999996,\n",
       " 'n_b_oxmax': 3.9000000000000004,\n",
       " 'n_b_oxmin': 2.3,\n",
       " 'r_a_oxavg': 1.75,\n",
       " 'r_a_oxmax': 1.75,\n",
       " 'r_a_oxmin': 1.75,\n",
       " 'r_b_oxavg': 0.8213333333333334,\n",
       " 'r_b_oxmax': 0.912,\n",
       " 'r_b_oxmin': 0.748,\n",
       " 'r_b_std_oxavg': 0.0951561222733619,\n",
       " 'r_b_std_oxmax': 0.13402984742213206,\n",
       " 'r_b_std_oxmin': 0.047180504448341806,\n",
       " 'r_crit_oxavg': 0.7995531738898527,\n",
       " 'r_crit_oxmax': 0.8205625623130609,\n",
       " 'r_crit_oxmin': 0.7814779600205024,\n",
       " 'tau_oxavg': 3.187767629940337,\n",
       " 'tau_oxmax': 3.270080255046226,\n",
       " 'tau_oxmin': 3.164222138139499,\n",
       " 'tot_cat_charge_oxavg': 5.1,\n",
       " 'tot_cat_charge_oxmax': 5.9,\n",
       " 'tot_cat_charge_oxmin': 4.3,\n",
       " 'trans_met_amt': 0.8,\n",
       " 'uc_vol_free_oxavg': 31.51032691732078,\n",
       " 'uc_vol_free_oxmax': 38.33084896011799,\n",
       " 'uc_vol_free_oxmin': 28.21290382025147,\n",
       " 'uc_vol_oxavg': 77.6714209357049,\n",
       " 'uc_vol_oxmax': 81.97273958400002,\n",
       " 'uc_vol_oxmin': 77.13375610466801}"
      ]
     },
     "execution_count": 101,
     "metadata": {},
     "output_type": "execute_result"
    }
   ],
   "source": [
    "p = Perovskite('BaCo0.4Fe0.4Zr0.1Y0.1O2.9')\n",
    "p.featurize()\n",
    "p.features"
   ]
  },
  {
   "cell_type": "markdown",
   "metadata": {},
   "source": [
    "## perovskite ABE - compare to original module"
   ]
  },
  {
   "cell_type": "markdown",
   "metadata": {},
   "source": [
    "### simple oxide OBE"
   ]
  },
  {
   "cell_type": "code",
   "execution_count": 140,
   "metadata": {},
   "outputs": [
    {
     "name": "stdout",
     "output_type": "stream",
     "text": [
      "loaded calc_chemfeat_2\n"
     ]
    },
    {
     "data": {
      "text/plain": [
       "([-2005.84, -3498.51, -2204.755, -976.36, -912.5799999999999, -2403.33],\n",
       " [-2005.84, -3498.51, -2204.755, -976.36, -912.5799999999999, -2403.33])"
      ]
     },
     "execution_count": 140,
     "metadata": {},
     "output_type": "execute_result"
    }
   ],
   "source": [
    "oxides = ['CeO2','Y2O3','ZrO2','BaO','CoO','Fe2O3']\n",
    "\n",
    "[mpo.oxide_obe(oxide) for oxide in oxides], [mp.MX_bond_energy(oxide) for oxide in oxides]"
   ]
  },
  {
   "cell_type": "markdown",
   "metadata": {},
   "source": [
    "### perovskite ABE"
   ]
  },
  {
   "cell_type": "code",
   "execution_count": 141,
   "metadata": {},
   "outputs": [
    {
     "name": "stdout",
     "output_type": "stream",
     "text": [
      "loaded calc_chemfeat_2\n",
      "Formation enthalpy for BaO includes data from phases: cubic, solid\n",
      "Formation enthalpy for Ba includes data from phases: gas\n",
      "Formation enthalpy for ZrO2 includes data from phases: monocl\n",
      "Formation enthalpy for Zr includes data from phases: gas\n",
      "Formation enthalpy for Y2O3 includes data from phases: cubic\n",
      "Formation enthalpy for Y includes data from phases: gas\n"
     ]
    },
    {
     "data": {
      "text/plain": [
       "-433.6391666666667"
      ]
     },
     "execution_count": 141,
     "metadata": {},
     "output_type": "execute_result"
    }
   ],
   "source": [
    "mpo.get_ABE('BaZr0.8Y0.2O3',A_site=['Ba'],B_site=['Zr','Y'])"
   ]
  },
  {
   "cell_type": "code",
   "execution_count": 142,
   "metadata": {},
   "outputs": [
    {
     "name": "stdout",
     "output_type": "stream",
     "text": [
      "loaded calc_chemfeat_2\n",
      "Formation enthalpy for Fe2O3 includes data from phases: hemat, solid\n",
      "Formation enthalpy for Fe includes data from phases: gas\n"
     ]
    },
    {
     "data": {
      "text/plain": [
       "-365.2316666666667"
      ]
     },
     "execution_count": 142,
     "metadata": {},
     "output_type": "execute_result"
    }
   ],
   "source": [
    "mpo.get_ABE('BaFe0.5Zr0.5O3',A_site=['Ba'],B_site=['Zr','Fe'])"
   ]
  },
  {
   "cell_type": "code",
   "execution_count": 45,
   "metadata": {},
   "outputs": [],
   "source": [
    "df = pd.DataFrame(formulas,columns=['formula'])\n",
    "df['ABE_old'] = 0\n",
    "df['ABE_new'] = 0"
   ]
  },
  {
   "cell_type": "code",
   "execution_count": 46,
   "metadata": {},
   "outputs": [
    {
     "name": "stdout",
     "output_type": "stream",
     "text": [
      "Oxides used for ABE calculation:\n",
      "Ba1O1.0\n",
      "Co1O1.0\n",
      "Fe2O3.0\n",
      "Zr1O2.0\n",
      "Y2O3.0\n",
      "Oxides used for BaCo0.4Fe0.4Zr0.1Y0.1O3 ABE calculation:\n",
      "Ba1O1.0\n",
      "Co1O1.0\n",
      "Fe2O3.0\n",
      "Zr1O2.0\n",
      "Y2O3.0\n",
      "Oxides used for ABE calculation:\n",
      "Ba1O1.0\n",
      "Co1O1.0\n",
      "Fe2O3.0\n",
      "Zr1O2.0\n",
      "Y2O3.0\n",
      "Oxides used for BaCo0.3Fe0.5Zr0.1Y0.1O3 ABE calculation:\n",
      "Ba1O1.0\n",
      "Co1O1.0\n",
      "Fe2O3.0\n",
      "Zr1O2.0\n",
      "Y2O3.0\n",
      "Oxides used for ABE calculation:\n",
      "Ba1O1.0\n",
      "Co1O1.0\n",
      "Fe2O3.0\n",
      "Zr1O2.0\n",
      "Y2O3.0\n",
      "Oxides used for BaCo0.5Fe0.3Zr0.1Y0.1O3 ABE calculation:\n",
      "Ba1O1.0\n",
      "Co1O1.0\n",
      "Fe2O3.0\n",
      "Zr1O2.0\n",
      "Y2O3.0\n",
      "Oxides used for ABE calculation:\n",
      "Ba1O1.0\n",
      "Co1O1.0\n",
      "Fe2O3.0\n",
      "Zr1O2.0\n",
      "Y2O3.0\n",
      "Oxides used for BaCo0.1Fe0.1Zr0.7Y0.1O3 ABE calculation:\n",
      "Ba1O1.0\n",
      "Co1O1.0\n",
      "Fe2O3.0\n",
      "Zr1O2.0\n",
      "Y2O3.0\n",
      "Oxides used for ABE calculation:\n",
      "Ba1O1.0\n",
      "Co1O1.0\n",
      "Fe2O3.0\n",
      "Zr1O2.0\n",
      "Y2O3.0\n",
      "Oxides used for BaCo0.1Fe0.1Zr0.1Y0.7O3 ABE calculation:\n",
      "Ba1O1.0\n",
      "Co1O1.0\n",
      "Fe2O3.0\n",
      "Zr1O2.0\n",
      "Y2O3.0\n"
     ]
    }
   ],
   "source": [
    "for idx in df.index:\n",
    "    df.loc[idx,'ABE_old'] = mpo.get_ABE(df.loc[idx,'formula'],A_site,B_site,verbose=True)\n",
    "    df.loc[idx,'ABE_new'] = mp.perovskite_ABE(df.loc[idx,'formula'],A_site,B_site,verbose=True)"
   ]
  },
  {
   "cell_type": "code",
   "execution_count": 47,
   "metadata": {},
   "outputs": [
    {
     "data": {
      "text/html": [
       "<div>\n",
       "<style scoped>\n",
       "    .dataframe tbody tr th:only-of-type {\n",
       "        vertical-align: middle;\n",
       "    }\n",
       "\n",
       "    .dataframe tbody tr th {\n",
       "        vertical-align: top;\n",
       "    }\n",
       "\n",
       "    .dataframe thead th {\n",
       "        text-align: right;\n",
       "    }\n",
       "</style>\n",
       "<table border=\"1\" class=\"dataframe\">\n",
       "  <thead>\n",
       "    <tr style=\"text-align: right;\">\n",
       "      <th></th>\n",
       "      <th>formula</th>\n",
       "      <th>ABE_old</th>\n",
       "      <th>ABE_new</th>\n",
       "    </tr>\n",
       "  </thead>\n",
       "  <tbody>\n",
       "    <tr>\n",
       "      <th>0</th>\n",
       "      <td>BaCo0.4Fe0.4Zr0.1Y0.1O3</td>\n",
       "      <td>-288.213167</td>\n",
       "      <td>-288.213167</td>\n",
       "    </tr>\n",
       "    <tr>\n",
       "      <th>1</th>\n",
       "      <td>BaCo0.3Fe0.5Zr0.1Y0.1O3</td>\n",
       "      <td>-293.031250</td>\n",
       "      <td>-293.031250</td>\n",
       "    </tr>\n",
       "    <tr>\n",
       "      <th>2</th>\n",
       "      <td>BaCo0.5Fe0.3Zr0.1Y0.1O3</td>\n",
       "      <td>-283.395083</td>\n",
       "      <td>-283.395083</td>\n",
       "    </tr>\n",
       "    <tr>\n",
       "      <th>3</th>\n",
       "      <td>BaCo0.1Fe0.1Zr0.7Y0.1O3</td>\n",
       "      <td>-402.976417</td>\n",
       "      <td>-402.976417</td>\n",
       "    </tr>\n",
       "    <tr>\n",
       "      <th>4</th>\n",
       "      <td>BaCo0.1Fe0.1Zr0.1Y0.7O3</td>\n",
       "      <td>-357.426417</td>\n",
       "      <td>-357.426417</td>\n",
       "    </tr>\n",
       "  </tbody>\n",
       "</table>\n",
       "</div>"
      ],
      "text/plain": [
       "                   formula     ABE_old     ABE_new\n",
       "0  BaCo0.4Fe0.4Zr0.1Y0.1O3 -288.213167 -288.213167\n",
       "1  BaCo0.3Fe0.5Zr0.1Y0.1O3 -293.031250 -293.031250\n",
       "2  BaCo0.5Fe0.3Zr0.1Y0.1O3 -283.395083 -283.395083\n",
       "3  BaCo0.1Fe0.1Zr0.7Y0.1O3 -402.976417 -402.976417\n",
       "4  BaCo0.1Fe0.1Zr0.1Y0.7O3 -357.426417 -357.426417"
      ]
     },
     "execution_count": 47,
     "metadata": {},
     "output_type": "execute_result"
    }
   ],
   "source": [
    "df"
   ]
  },
  {
   "cell_type": "markdown",
   "metadata": {},
   "source": [
    "# perovskite formation enthalpy"
   ]
  },
  {
   "cell_type": "code",
   "execution_count": 48,
   "metadata": {},
   "outputs": [
    {
     "name": "stdout",
     "output_type": "stream",
     "text": [
      "Oxides used for BaCo0.4Fe0.4Zr0.1Y0.1O3 fH calculation:\n",
      "Ba1O1.0\n",
      "Co1O1.0\n",
      "Fe2O3.0\n",
      "Zr1O2.0\n",
      "Y2O3.0\n",
      "Oxides used for BaCo0.3Fe0.5Zr0.1Y0.1O3 fH calculation:\n",
      "Ba1O1.0\n",
      "Co1O1.0\n",
      "Fe2O3.0\n",
      "Zr1O2.0\n",
      "Y2O3.0\n",
      "Oxides used for BaCo0.5Fe0.3Zr0.1Y0.1O3 fH calculation:\n",
      "Ba1O1.0\n",
      "Co1O1.0\n",
      "Fe2O3.0\n",
      "Zr1O2.0\n",
      "Y2O3.0\n",
      "Oxides used for BaCo0.1Fe0.1Zr0.7Y0.1O3 fH calculation:\n",
      "Ba1O1.0\n",
      "Co1O1.0\n",
      "Fe2O3.0\n",
      "Zr1O2.0\n",
      "Y2O3.0\n",
      "Oxides used for BaCo0.1Fe0.1Zr0.1Y0.7O3 fH calculation:\n",
      "Ba1O1.0\n",
      "Co1O1.0\n",
      "Fe2O3.0\n",
      "Zr1O2.0\n",
      "Y2O3.0\n"
     ]
    }
   ],
   "source": [
    "df['fH_est'] = 0\n",
    "for idx in df.index:\n",
    "    df.loc[idx,'fH_est'] = mp.perovskite_fH(df.loc[idx,'formula'],A_site,B_site,verbose=True)"
   ]
  },
  {
   "cell_type": "code",
   "execution_count": 21,
   "metadata": {},
   "outputs": [
    {
     "data": {
      "text/html": [
       "<div>\n",
       "<style scoped>\n",
       "    .dataframe tbody tr th:only-of-type {\n",
       "        vertical-align: middle;\n",
       "    }\n",
       "\n",
       "    .dataframe tbody tr th {\n",
       "        vertical-align: top;\n",
       "    }\n",
       "\n",
       "    .dataframe thead th {\n",
       "        text-align: right;\n",
       "    }\n",
       "</style>\n",
       "<table border=\"1\" class=\"dataframe\">\n",
       "  <thead>\n",
       "    <tr style=\"text-align: right;\">\n",
       "      <th></th>\n",
       "      <th>formula</th>\n",
       "      <th>ABE_old</th>\n",
       "      <th>ABE_new</th>\n",
       "      <th>fH_est</th>\n",
       "    </tr>\n",
       "  </thead>\n",
       "  <tbody>\n",
       "    <tr>\n",
       "      <th>0</th>\n",
       "      <td>BaCo0.4Fe0.4Zr0.1Y0.1O3</td>\n",
       "      <td>-288.213167</td>\n",
       "      <td>-288.213167</td>\n",
       "      <td>-1507.0390</td>\n",
       "    </tr>\n",
       "    <tr>\n",
       "      <th>1</th>\n",
       "      <td>BaCo0.3Fe0.5Zr0.1Y0.1O3</td>\n",
       "      <td>-293.031250</td>\n",
       "      <td>-293.031250</td>\n",
       "      <td>-1657.1145</td>\n",
       "    </tr>\n",
       "    <tr>\n",
       "      <th>2</th>\n",
       "      <td>BaCo0.5Fe0.3Zr0.1Y0.1O3</td>\n",
       "      <td>-283.395083</td>\n",
       "      <td>-283.395083</td>\n",
       "      <td>-1356.9635</td>\n",
       "    </tr>\n",
       "    <tr>\n",
       "      <th>3</th>\n",
       "      <td>BaCo0.1Fe0.1Zr0.7Y0.1O3</td>\n",
       "      <td>-402.976417</td>\n",
       "      <td>-402.976417</td>\n",
       "      <td>-1724.1625</td>\n",
       "    </tr>\n",
       "    <tr>\n",
       "      <th>4</th>\n",
       "      <td>BaCo0.1Fe0.1Zr0.1Y0.7O3</td>\n",
       "      <td>-357.426417</td>\n",
       "      <td>-357.426417</td>\n",
       "      <td>-2609.9845</td>\n",
       "    </tr>\n",
       "  </tbody>\n",
       "</table>\n",
       "</div>"
      ],
      "text/plain": [
       "                   formula     ABE_old     ABE_new     fH_est\n",
       "0  BaCo0.4Fe0.4Zr0.1Y0.1O3 -288.213167 -288.213167 -1507.0390\n",
       "1  BaCo0.3Fe0.5Zr0.1Y0.1O3 -293.031250 -293.031250 -1657.1145\n",
       "2  BaCo0.5Fe0.3Zr0.1Y0.1O3 -283.395083 -283.395083 -1356.9635\n",
       "3  BaCo0.1Fe0.1Zr0.7Y0.1O3 -402.976417 -402.976417 -1724.1625\n",
       "4  BaCo0.1Fe0.1Zr0.1Y0.7O3 -357.426417 -357.426417 -2609.9845"
      ]
     },
     "execution_count": 21,
     "metadata": {},
     "output_type": "execute_result"
    }
   ],
   "source": [
    "df"
   ]
  },
  {
   "cell_type": "markdown",
   "metadata": {},
   "source": [
    "## perovskite cohesive energy"
   ]
  },
  {
   "cell_type": "code",
   "execution_count": 71,
   "metadata": {},
   "outputs": [
    {
     "data": {
      "application/vnd.jupyter.widget-view+json": {
       "model_id": "08b90feeab0749e59f78697969d9bb4d",
       "version_major": 2,
       "version_minor": 0
      },
      "text/html": [
       "<p>Failed to display Jupyter Widget of type <code>HBox</code>.</p>\n",
       "<p>\n",
       "  If you're reading this message in the Jupyter Notebook or JupyterLab Notebook, it may mean\n",
       "  that the widgets JavaScript is still loading. If this message persists, it\n",
       "  likely means that the widgets JavaScript library is either not installed or\n",
       "  not enabled. See the <a href=\"https://ipywidgets.readthedocs.io/en/stable/user_install.html\">Jupyter\n",
       "  Widgets Documentation</a> for setup instructions.\n",
       "</p>\n",
       "<p>\n",
       "  If you're reading this message in another frontend (for example, a static\n",
       "  rendering on GitHub or <a href=\"https://nbviewer.jupyter.org/\">NBViewer</a>),\n",
       "  it may mean that your frontend doesn't currently support widgets.\n",
       "</p>\n"
      ],
      "text/plain": [
       "HBox(children=(IntProgress(value=0, description='StrToComposition', max=5), HTML(value='')))"
      ]
     },
     "metadata": {},
     "output_type": "display_data"
    },
    {
     "name": "stdout",
     "output_type": "stream",
     "text": [
      "\n"
     ]
    },
    {
     "data": {
      "application/vnd.jupyter.widget-view+json": {
       "model_id": "32fe3ab7b39940c7b51ce8a4868176ec",
       "version_major": 2,
       "version_minor": 0
      },
      "text/html": [
       "<p>Failed to display Jupyter Widget of type <code>HBox</code>.</p>\n",
       "<p>\n",
       "  If you're reading this message in the Jupyter Notebook or JupyterLab Notebook, it may mean\n",
       "  that the widgets JavaScript is still loading. If this message persists, it\n",
       "  likely means that the widgets JavaScript library is either not installed or\n",
       "  not enabled. See the <a href=\"https://ipywidgets.readthedocs.io/en/stable/user_install.html\">Jupyter\n",
       "  Widgets Documentation</a> for setup instructions.\n",
       "</p>\n",
       "<p>\n",
       "  If you're reading this message in another frontend (for example, a static\n",
       "  rendering on GitHub or <a href=\"https://nbviewer.jupyter.org/\">NBViewer</a>),\n",
       "  it may mean that your frontend doesn't currently support widgets.\n",
       "</p>\n"
      ],
      "text/plain": [
       "HBox(children=(IntProgress(value=0, description='CohesiveEnergy', max=5), HTML(value='')))"
      ]
     },
     "metadata": {},
     "output_type": "display_data"
    },
    {
     "name": "stdout",
     "output_type": "stream",
     "text": [
      "\n"
     ]
    }
   ],
   "source": [
    "#add composition \n",
    "cdf = StrToComposition().featurize_dataframe(df,col_id=\"formula\", inplace=False)\n",
    "\n",
    "#put in zero formation energy to get average elemental cohesive energy from CohesiveEnergy featurizer\n",
    "cdf['formation_energy_per_atom'] = 1e-10 #can't be exactly zero or will be ignored (then matminer tries to look up formation energy in MatProj)\n",
    "\n",
    "#use CohesiveEnergy featurizer\n",
    "ce_feat = CohesiveEnergy(mapi_key=os.environ['MATPROJ_API_KEY'])\n",
    "ce_feat.featurize_dataframe(cdf, col_id=['composition','formation_energy_per_atom'])\n",
    "#higher (positive) cohesive energy indicates stronger bonding in elemental solids\n",
    "cdf = cdf.rename({'cohesive energy':'avg_elemental_cohesive_energy'},axis='columns')\n",
    "\n",
    "#calc actual formation energy per atom (eV) from fH_est\n",
    "cdf['formation_energy_per_atom'] = cdf['fH_est']*1000/(1.602e-19*6.022e23*cdf['composition'].map(lambda x: x.num_atoms)) #convert kJ/mol to eV/atom\n",
    "#get estimated perovskite cohesive energy using actual formation energy\n",
    "#higher elemental cohesive energy (stronger bonding) reduces perovskite cohesive energy\n",
    "#more negative perovskite formation enthalpy (stronger bonding) increases pervoskite cohesive energy\n",
    "cdf['cohesive_energy'] = -cdf['formation_energy_per_atom'] + cdf['avg_elemental_cohesive_energy']\n",
    "#ce_feat.featurize_dataframe(cdf, col_id=['composition','formation_energy_per_atom'])"
   ]
  },
  {
   "cell_type": "code",
   "execution_count": 72,
   "metadata": {},
   "outputs": [
    {
     "data": {
      "text/html": [
       "<div>\n",
       "<style scoped>\n",
       "    .dataframe tbody tr th:only-of-type {\n",
       "        vertical-align: middle;\n",
       "    }\n",
       "\n",
       "    .dataframe tbody tr th {\n",
       "        vertical-align: top;\n",
       "    }\n",
       "\n",
       "    .dataframe thead th {\n",
       "        text-align: right;\n",
       "    }\n",
       "</style>\n",
       "<table border=\"1\" class=\"dataframe\">\n",
       "  <thead>\n",
       "    <tr style=\"text-align: right;\">\n",
       "      <th></th>\n",
       "      <th>formula</th>\n",
       "      <th>ABE_old</th>\n",
       "      <th>ABE_new</th>\n",
       "      <th>fH_est</th>\n",
       "      <th>composition</th>\n",
       "      <th>formation_energy_per_atom</th>\n",
       "      <th>avg_elemental_cohesive_energy</th>\n",
       "      <th>cohesive_energy</th>\n",
       "    </tr>\n",
       "  </thead>\n",
       "  <tbody>\n",
       "    <tr>\n",
       "      <th>0</th>\n",
       "      <td>BaCo0.4Fe0.4Zr0.1Y0.1O3</td>\n",
       "      <td>-288.213167</td>\n",
       "      <td>-288.213167</td>\n",
       "      <td>-1507.0390</td>\n",
       "      <td>(Ba, Co, Fe, Zr, Y, O)</td>\n",
       "      <td>-3.124289</td>\n",
       "      <td>2.8460</td>\n",
       "      <td>5.970289</td>\n",
       "    </tr>\n",
       "    <tr>\n",
       "      <th>1</th>\n",
       "      <td>BaCo0.3Fe0.5Zr0.1Y0.1O3</td>\n",
       "      <td>-293.031250</td>\n",
       "      <td>-293.031250</td>\n",
       "      <td>-1657.1145</td>\n",
       "      <td>(Ba, Co, Fe, Zr, Y, O)</td>\n",
       "      <td>-3.435415</td>\n",
       "      <td>2.8438</td>\n",
       "      <td>6.279215</td>\n",
       "    </tr>\n",
       "    <tr>\n",
       "      <th>2</th>\n",
       "      <td>BaCo0.5Fe0.3Zr0.1Y0.1O3</td>\n",
       "      <td>-283.395083</td>\n",
       "      <td>-283.395083</td>\n",
       "      <td>-1356.9635</td>\n",
       "      <td>(Ba, Co, Fe, Zr, Y, O)</td>\n",
       "      <td>-2.813163</td>\n",
       "      <td>2.8482</td>\n",
       "      <td>5.661363</td>\n",
       "    </tr>\n",
       "    <tr>\n",
       "      <th>3</th>\n",
       "      <td>BaCo0.1Fe0.1Zr0.7Y0.1O3</td>\n",
       "      <td>-402.976417</td>\n",
       "      <td>-402.976417</td>\n",
       "      <td>-1724.1625</td>\n",
       "      <td>(Ba, Co, Fe, Zr, Y, O)</td>\n",
       "      <td>-3.574415</td>\n",
       "      <td>3.0758</td>\n",
       "      <td>6.650215</td>\n",
       "    </tr>\n",
       "    <tr>\n",
       "      <th>4</th>\n",
       "      <td>BaCo0.1Fe0.1Zr0.1Y0.7O3</td>\n",
       "      <td>-357.426417</td>\n",
       "      <td>-357.426417</td>\n",
       "      <td>-2609.9845</td>\n",
       "      <td>(Ba, Co, Fe, Zr, Y, O)</td>\n",
       "      <td>-5.410840</td>\n",
       "      <td>2.8502</td>\n",
       "      <td>8.261040</td>\n",
       "    </tr>\n",
       "  </tbody>\n",
       "</table>\n",
       "</div>"
      ],
      "text/plain": [
       "                   formula     ABE_old     ABE_new     fH_est  \\\n",
       "0  BaCo0.4Fe0.4Zr0.1Y0.1O3 -288.213167 -288.213167 -1507.0390   \n",
       "1  BaCo0.3Fe0.5Zr0.1Y0.1O3 -293.031250 -293.031250 -1657.1145   \n",
       "2  BaCo0.5Fe0.3Zr0.1Y0.1O3 -283.395083 -283.395083 -1356.9635   \n",
       "3  BaCo0.1Fe0.1Zr0.7Y0.1O3 -402.976417 -402.976417 -1724.1625   \n",
       "4  BaCo0.1Fe0.1Zr0.1Y0.7O3 -357.426417 -357.426417 -2609.9845   \n",
       "\n",
       "              composition  formation_energy_per_atom  \\\n",
       "0  (Ba, Co, Fe, Zr, Y, O)                  -3.124289   \n",
       "1  (Ba, Co, Fe, Zr, Y, O)                  -3.435415   \n",
       "2  (Ba, Co, Fe, Zr, Y, O)                  -2.813163   \n",
       "3  (Ba, Co, Fe, Zr, Y, O)                  -3.574415   \n",
       "4  (Ba, Co, Fe, Zr, Y, O)                  -5.410840   \n",
       "\n",
       "   avg_elemental_cohesive_energy  cohesive_energy  \n",
       "0                         2.8460         5.970289  \n",
       "1                         2.8438         6.279215  \n",
       "2                         2.8482         5.661363  \n",
       "3                         3.0758         6.650215  \n",
       "4                         2.8502         8.261040  "
      ]
     },
     "execution_count": 72,
     "metadata": {},
     "output_type": "execute_result"
    }
   ],
   "source": [
    "cdf"
   ]
  },
  {
   "cell_type": "code",
   "execution_count": 70,
   "metadata": {},
   "outputs": [
    {
     "data": {
      "text/plain": [
       "['@misc{, title = {{Knowledgedoor Cohesive energy handbook}}, url = {http://www.knowledgedoor.com/2/elements{\\\\_}handbook/cohesive{\\\\_}energy.html}}',\n",
       " '@book{Kittel, author = {Kittel, C}, isbn = {978-0-471-41526-8}, publisher = {Wiley}, title = {{Introduction to Solid State Physics, 8th Edition}}, year = {2005}}']"
      ]
     },
     "execution_count": 70,
     "metadata": {},
     "output_type": "execute_result"
    }
   ],
   "source": [
    "ce_feat.citations()"
   ]
  },
  {
   "cell_type": "code",
   "execution_count": 89,
   "metadata": {},
   "outputs": [
    {
     "data": {
      "text/plain": [
       "1.8563850981689693"
      ]
     },
     "execution_count": 89,
     "metadata": {},
     "output_type": "execute_result"
    }
   ],
   "source": [
    "mp.get_fH('Ba','gas')*1000/(1.602e-19*6.022e23)"
   ]
  },
  {
   "cell_type": "code",
   "execution_count": 90,
   "metadata": {},
   "outputs": [
    {
     "data": {
      "text/plain": [
       "1.9"
      ]
     },
     "execution_count": 90,
     "metadata": {},
     "output_type": "execute_result"
    }
   ],
   "source": [
    "CohesiveEnergyData().get_elemental_property('Ba')"
   ]
  },
  {
   "cell_type": "code",
   "execution_count": null,
   "metadata": {},
   "outputs": [],
   "source": [
    "\n",
    "df['cohesive_energy'] = 0\n",
    "ce_feat = CohesiveEnergy(mapi_key=os.environ['MATPROJ_API_KEY'])"
   ]
  },
  {
   "cell_type": "code",
   "execution_count": 143,
   "metadata": {},
   "outputs": [
    {
     "name": "stdout",
     "output_type": "stream",
     "text": [
      "loaded calc_chemfeat_2\n"
     ]
    }
   ],
   "source": [
    "rest = MPRester(os.environ['MATPROJ_API_KEY'])"
   ]
  },
  {
   "cell_type": "code",
   "execution_count": 148,
   "metadata": {},
   "outputs": [
    {
     "data": {
      "text/plain": [
       "[formula : Co3O4\n",
       " compound_name : Co3O4\n",
       " phaseinfo : cubic\n",
       " type : B\n",
       " temp_range : [298, 298]\n",
       " value : 1.728e-05\n",
       " method : \n",
       " ref : O. Kubaschewski, C. Alcock, P. Spencer, Materials Thermochemistry, 6th ed., Oxford, Pergamom Press, 1993.\n",
       " uncertainty : None, formula : Co3O4\n",
       " compound_name : Co3O4\n",
       " phaseinfo : cubic\n",
       " type : C\n",
       " temp_range : [298, 298]\n",
       " value : -24.35\n",
       " method : \n",
       " ref : O. Kubaschewski, C. Alcock, P. Spencer, Materials Thermochemistry, 6th ed., Oxford, Pergamom Press, 1993.\n",
       " uncertainty : None, formula : Co3O4\n",
       " compound_name : Co3O4\n",
       " phaseinfo : cubic\n",
       " type : D\n",
       " temp_range : [298, 298]\n",
       " value : 5.397e-08\n",
       " method : \n",
       " ref : O. Kubaschewski, C. Alcock, P. Spencer, Materials Thermochemistry, 6th ed., Oxford, Pergamom Press, 1993.\n",
       " uncertainty : None, formula : Co3O4\n",
       " compound_name : Co3O4\n",
       " phaseinfo : cubic\n",
       " type : S\n",
       " temp_range : [298, 298]\n",
       " value : 0.1143\n",
       " method : \n",
       " ref : O. Kubaschewski, C. Alcock, P. Spencer, Materials Thermochemistry, 6th ed., Oxford, Pergamom Press, 1993.\n",
       " uncertainty : 0.008400000000000001, formula : Co3O4\n",
       " compound_name : Co3O4\n",
       " phaseinfo : cubic\n",
       " type : fH\n",
       " temp_range : [298, 298]\n",
       " value : -910.0\n",
       " method : \n",
       " ref : O. Kubaschewski, C. Alcock, P. Spencer, Materials Thermochemistry, 6th ed., Oxford, Pergamom Press, 1993.\n",
       " uncertainty : 4.6, formula : Co3O4\n",
       " compound_name : Co3O4\n",
       " phaseinfo : cubic\n",
       " type : A\n",
       " temp_range : [298, 298]\n",
       " value : 0.14075\n",
       " method : \n",
       " ref : O. Kubaschewski, C. Alcock, P. Spencer, Materials Thermochemistry, 6th ed., Oxford, Pergamom Press, 1993.\n",
       " uncertainty : None, formula : Co3O4\n",
       " compound_name : Cobalt oxide\n",
       " phaseinfo : solid\n",
       " type : fH\n",
       " temp_range : [298, 298]\n",
       " value : -910.02\n",
       " method : Review\n",
       " ref : Chase, M.W., Jr.,NIST-JANAF Themochemical Tables, Fourth Edition,J. Phys. Chem. Ref. Data, Monograph 9, 1998, 1-1951.  Data last reviewed in December, 1971\n",
       " uncertainty : None, formula : Co3O4\n",
       " compound_name : Cobalt oxide\n",
       " phaseinfo : solid\n",
       " type : B\n",
       " temp_range : [298.0, 1500.0]\n",
       " value : -100.4361\n",
       " method : \n",
       " ref : Chase, M.W., Jr.,NIST-JANAF Themochemical Tables, Fourth Edition,J. Phys. Chem. Ref. Data, Monograph 9, 1998, 1-1951.  Data last reviewed in December, 1971\n",
       " uncertainty : None, formula : Co3O4\n",
       " compound_name : Cobalt oxide\n",
       " phaseinfo : solid\n",
       " type : C\n",
       " temp_range : [298.0, 1500.0]\n",
       " value : 185.7792\n",
       " method : \n",
       " ref : Chase, M.W., Jr.,NIST-JANAF Themochemical Tables, Fourth Edition,J. Phys. Chem. Ref. Data, Monograph 9, 1998, 1-1951.  Data last reviewed in December, 1971\n",
       " uncertainty : None, formula : Co3O4\n",
       " compound_name : Cobalt oxide\n",
       " phaseinfo : solid\n",
       " type : D\n",
       " temp_range : [298.0, 1500.0]\n",
       " value : -49.04861\n",
       " method : \n",
       " ref : Chase, M.W., Jr.,NIST-JANAF Themochemical Tables, Fourth Edition,J. Phys. Chem. Ref. Data, Monograph 9, 1998, 1-1951.  Data last reviewed in December, 1971\n",
       " uncertainty : None, formula : Co3O4\n",
       " compound_name : Cobalt oxide\n",
       " phaseinfo : solid\n",
       " type : E\n",
       " temp_range : [298.0, 1500.0]\n",
       " value : -3.483951\n",
       " method : \n",
       " ref : Chase, M.W., Jr.,NIST-JANAF Themochemical Tables, Fourth Edition,J. Phys. Chem. Ref. Data, Monograph 9, 1998, 1-1951.  Data last reviewed in December, 1971\n",
       " uncertainty : None, formula : Co3O4\n",
       " compound_name : Cobalt oxide\n",
       " phaseinfo : solid\n",
       " type : F\n",
       " temp_range : [298.0, 1500.0]\n",
       " value : -971.5415\n",
       " method : \n",
       " ref : Chase, M.W., Jr.,NIST-JANAF Themochemical Tables, Fourth Edition,J. Phys. Chem. Ref. Data, Monograph 9, 1998, 1-1951.  Data last reviewed in December, 1971\n",
       " uncertainty : None, formula : Co3O4\n",
       " compound_name : Cobalt oxide\n",
       " phaseinfo : solid\n",
       " type : S\n",
       " temp_range : [298, 298]\n",
       " value : 0.11444\n",
       " method : Review\n",
       " ref : Chase, M.W., Jr.,NIST-JANAF Themochemical Tables, Fourth Edition,J. Phys. Chem. Ref. Data, Monograph 9, 1998, 1-1951.  Data last reviewed in December, 1971\n",
       " uncertainty : None, formula : Co3O4\n",
       " compound_name : Cobalt oxide\n",
       " phaseinfo : solid\n",
       " type : A\n",
       " temp_range : [298.0, 1500.0]\n",
       " value : 177.0953\n",
       " method : \n",
       " ref : Chase, M.W., Jr.,NIST-JANAF Themochemical Tables, Fourth Edition,J. Phys. Chem. Ref. Data, Monograph 9, 1998, 1-1951.  Data last reviewed in December, 1971\n",
       " uncertainty : None, formula : Co3O4\n",
       " compound_name : Cobalt oxide\n",
       " phaseinfo : solid\n",
       " type : G\n",
       " temp_range : [298.0, 1500.0]\n",
       " value : 331.2828\n",
       " method : \n",
       " ref : Chase, M.W., Jr.,NIST-JANAF Themochemical Tables, Fourth Edition,J. Phys. Chem. Ref. Data, Monograph 9, 1998, 1-1951.  Data last reviewed in December, 1971\n",
       " uncertainty : None, formula : Co3O4\n",
       " compound_name : Cobalt oxide\n",
       " phaseinfo : solid\n",
       " type : H\n",
       " temp_range : [298.0, 1500.0]\n",
       " value : -910.02\n",
       " method : \n",
       " ref : Chase, M.W., Jr.,NIST-JANAF Themochemical Tables, Fourth Edition,J. Phys. Chem. Ref. Data, Monograph 9, 1998, 1-1951.  Data last reviewed in December, 1971\n",
       " uncertainty : None]"
      ]
     },
     "execution_count": 148,
     "metadata": {},
     "output_type": "execute_result"
    }
   ],
   "source": [
    "rest.get_exp_thermo_data('Co3O4')"
   ]
  },
  {
   "cell_type": "code",
   "execution_count": 17,
   "metadata": {},
   "outputs": [
    {
     "data": {
      "text/plain": [
       "{}"
      ]
     },
     "execution_count": 17,
     "metadata": {},
     "output_type": "execute_result"
    }
   ],
   "source": [
    "mp.oxide_dict"
   ]
  },
  {
   "cell_type": "code",
   "execution_count": null,
   "metadata": {},
   "outputs": [],
   "source": []
  }
 ],
 "metadata": {
  "kernelspec": {
   "display_name": "Python 3",
   "language": "python",
   "name": "python3"
  },
  "language_info": {
   "codemirror_mode": {
    "name": "ipython",
    "version": 3
   },
   "file_extension": ".py",
   "mimetype": "text/x-python",
   "name": "python",
   "nbconvert_exporter": "python",
   "pygments_lexer": "ipython3",
   "version": "3.6.4"
  }
 },
 "nbformat": 4,
 "nbformat_minor": 2
}
