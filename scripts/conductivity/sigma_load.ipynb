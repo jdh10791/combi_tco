{
 "cells": [
  {
   "cell_type": "markdown",
   "metadata": {},
   "source": [
    "# Notebook for processing conductivity data\n",
    "## Load raw data, featurize composition, generate PIFS, and upload to Citrination"
   ]
  },
  {
   "cell_type": "code",
   "execution_count": 5,
   "metadata": {},
   "outputs": [],
   "source": [
    "#add parent directory to sys.path to allow module imports\n",
    "#see https://stackoverflow.com/questions/714063/importing-modules-from-parent-folder/11158224#11158224\n",
    "import sys\n",
    "sys.path.insert(1,'..')\n",
    "\n",
    "import numpy as np\n",
    "import pandas as pd\n",
    "import matplotlib.pyplot as plt\n",
    "%matplotlib inline\n",
    "import os\n",
    "import glob\n",
    "from helpers import fileload as fl\n",
    "from helpers.calc_chemfeat import perovskite, formula_redfeat, formula_pif\n",
    "from helpers.predict import predict_from_pifs\n",
    "from helpers.pickletools import pickle_dict\n",
    "import pypif.pif\n",
    "from pypif.obj import *\n",
    "import copy\n",
    "from citrination_client import CitrinationClient\n",
    "import pickle"
   ]
  },
  {
   "cell_type": "markdown",
   "metadata": {},
   "source": [
    "### Load raw data"
   ]
  },
  {
   "cell_type": "code",
   "execution_count": 6,
   "metadata": {},
   "outputs": [],
   "source": [
    "tcodir = os.path.join(os.environ['HOME'],'OneDrive - Colorado School of Mines/Research/MIDDMI/TCO')\n",
    "datadir = os.path.join(tcodir,'data/conductivity') #data/EIS_data\n",
    "pifdir = os.path.join(datadir,'pifs')\n",
    "pickledir = os.path.join(tcodir,'scripts/pickles')\n",
    "\n",
    "def sampledir(sample,src):\n",
    "    return os.path.join(datadir,src,sample)\n",
    "\n",
    "#load pickles\n",
    "calc_feat_Co23Fe34 = pickle_dict(os.path.join(pickledir,'feat_Co23Fe34'))\n",
    "calc_feat_Co24Fe24 = pickle_dict(os.path.join(pickledir,'feat_Co24Fe24'))\n",
    "calc_feat_Co34Fe23 = pickle_dict(os.path.join(pickledir,'feat_Co34Fe23'))"
   ]
  },
  {
   "cell_type": "markdown",
   "metadata": {},
   "source": [
    "### Featurize composition and write to PIFs"
   ]
  },
  {
   "cell_type": "code",
   "execution_count": 31,
   "metadata": {},
   "outputs": [
    {
     "name": "stdout",
     "output_type": "stream",
     "text": [
      "------------------\n",
      "Processing PDAC_COM3_01251\n",
      "------------------\n",
      "Calculated red_feat for 0 pifs\n",
      "Dumped 130 pifs in PDAC_COM3_01251_oxavg_pif.json\n",
      "------------------\n",
      "Processing PDAC_COM3_01254\n",
      "------------------\n",
      "Calculated red_feat for 0 pifs\n",
      "Dumped 132 pifs in PDAC_COM3_01254_oxavg_pif.json\n",
      "------------------\n",
      "Processing PDAC_COM3_01255\n",
      "------------------\n",
      "Calculated red_feat for 0 pifs\n",
      "Dumped 131 pifs in PDAC_COM3_01255_oxavg_pif.json\n",
      "------------------\n",
      "Processing PDAC_COM3_01256\n",
      "------------------\n",
      "Calculated red_feat for 0 pifs\n",
      "Dumped 131 pifs in PDAC_COM3_01256_oxavg_pif.json\n"
     ]
    }
   ],
   "source": [
    "cat_ox_lims = {'Co':[2,4],'Fe':[2,4]}\n",
    "dest = 'Co(2,4)Fe(2,4)'\n",
    "src = 'in'\n",
    "\n",
    "destdir = os.path.join(pifdir,dest)\n",
    "\n",
    "samples = next(os.walk(os.path.join(datadir,src)))[1]\n",
    "\n",
    "# #save red_feat for reuse\n",
    "# try:\n",
    "#     calc_feat_Co24Fe24 #{(sample,point):red_feat}\n",
    "# except NameError:\n",
    "#     calc_feat_Co24Fe24 = {}\n",
    "\n",
    "# try:\n",
    "#     calc_feat_Co23Fe34\n",
    "# except NameError:\n",
    "#     calc_feat_Co23Fe34 = {}\n",
    "    \n",
    "# try: #for testing physicality of model\n",
    "#     calc_feat_Co34Fe23\n",
    "# except NameError:\n",
    "#     calc_feat_Co34Fe23 = {}\n",
    "    \n",
    "for sample in samples:\n",
    "    print('------------------\\nProcessing {}\\n------------------'.format(sample))\n",
    "    df = fl.load_sample_files(sampledir(sample,src),info_filter={'T_set':['500C'],'atm':'dry'})\n",
    "    fl.get_formula(df,overwrite=True)\n",
    "    df = df.loc[df['Sigma_elec']>0,:]\n",
    "    \n",
    "    df['log_sigma'] = np.log10(df['Sigma_elec'])\n",
    "\n",
    "    pifs = {}\n",
    "    n_feat_calc = 0\n",
    "    for idx in df.index:\n",
    "        row = df.loc[idx,:]\n",
    "        formula = row['formula']\n",
    "        point = row['Point']\n",
    "        \n",
    "        if cat_ox_lims == {'Co':[2,4],'Fe':[2,4]}:\n",
    "            try:\n",
    "                red_feat = calc_feat_Co24Fe24[(sample,point)]\n",
    "            except KeyError:\n",
    "                red_feat = formula_redfeat(formula,cat_ox_lims=cat_ox_lims)\n",
    "                calc_feat_Co24Fe24[(sample,point)] = red_feat\n",
    "                n_feat_calc += 1\n",
    "        elif cat_ox_lims == {'Co':[2,3],'Fe':[3,4]}:\n",
    "            try:\n",
    "                red_feat = calc_feat_Co23Fe34[(sample,point)]\n",
    "            except KeyError:\n",
    "                red_feat = formula_redfeat(formula,cat_ox_lims=cat_ox_lims)\n",
    "                calc_feat_Co23Fe34[(sample,point)] = red_feat\n",
    "                n_feat_calc += 1\n",
    "        elif cat_ox_lims == {'Co':[3,4],'Fe':[2,3]}:\n",
    "            try:\n",
    "                red_feat = calc_feat_Co34Fe23[(sample,point)]\n",
    "            except KeyError:\n",
    "                red_feat = formula_redfeat(formula,cat_ox_lims=cat_ox_lims)\n",
    "                calc_feat_Co34Fe23[(sample,point)] = red_feat\n",
    "                n_feat_calc += 1\n",
    "        else:\n",
    "            raise Exception('cat_ox_lims {} does not match expected cases'.format(cat_ox_lims))\n",
    "        \n",
    "        row_pif, red_feat = formula_pif(formula,cat_ox_lims=cat_ox_lims,red_feat=red_feat)\n",
    "\n",
    "        \"Identifiers\"\n",
    "        sample_num = Id(name='Sample', value=sample[-5:])\n",
    "        pointid = Id(name='Point',value=int(point)) \n",
    "        row_pif.ids = [sample_num, pointid]\n",
    "\n",
    "        \"Properties\"\n",
    "        #output properties - \"labels\"\n",
    "        sigma = Property(name='sigma_e',units='S/cm',scalars=row['Sigma_elec'])\n",
    "        sigma.conditions = [Value(name='Temperature ($^\\circ$C)',scalars=int(row['Temp_C'])),\n",
    "                            Value(name='Atmosphere',scalars=row['atm'])]\n",
    "\n",
    "        log_sigma = Property(name='log_sigma_e',scalars=row['log_sigma'])\n",
    "        log_sigma.conditions = [Value(name='Temperature ($^\\circ$C)',scalars=int(row['Temp_C'])),\n",
    "                            Value(name='Atmosphere',scalars=row['atm'])]\n",
    "\n",
    "        row_pif.properties += [sigma,log_sigma]\n",
    "\n",
    "        #input propertes - \"features\"\n",
    "#             pvskt = perovskite(formula=row['formula'], site_ox_lim={'A':[2,4],'B':[2,4]},site_base_ox={'A':2,'B':4})\n",
    "#             #pvskt.set_cat_ox_lim('Co',[2,3])\n",
    "#             pvskt.featurize()\n",
    "#             props_oxavg = props.copy()\n",
    "#             #filtered_feat = {k:v for (k,v) in pvskt.features.items() if k[-5:] not in ['oxmin','oxmax']}\n",
    "#             for feat, val in pvskt.features.items():\n",
    "#                 prop = Property(name=feat,scalars=val)\n",
    "#                 props.append(prop)\n",
    "#                 if feat[-5:] not in ['oxmin','oxmax'] and feat[0:7]!='O_delta':\n",
    "#                     props_oxavg.append(prop)\n",
    "#             row_pif_oxavg = copy.copy(row_pif)\n",
    "#             row_pif.properties = props\n",
    "#             row_pif_oxavg.properties = props_oxavg\n",
    "#             oxavg_pifs.append(row_pif_oxavg)\n",
    "        pifs[point] = row_pif\n",
    "    \n",
    "    print('Calculated red_feat for {} pifs'.format(n_feat_calc))\n",
    "    \n",
    "    outfile = os.path.join(destdir,'{}_oxavg_pif.json'.format(sample))\n",
    "    file = open(outfile,'w')\n",
    "    pypif.pif.dump(list(pifs.values()),file,indent=0)\n",
    "    file.close()    \n",
    "    print('Dumped {} pifs in {}'.format(len(df), os.path.basename(outfile)))\n",
    "\n",
    "#     oxavg_outfile = os.path.join(pifdir,'{}_oxavg_pif.json'.format(sample))\n",
    "#     oxavg_file = open(oxavg_outfile,'w')\n",
    "#     for rp in oxavg_pifs:\n",
    "#         pif.dump(rp,oxavg_file)\n",
    "#     oxavg_file.close()\n",
    "#     print('Dumped {} pifs in {}'.format(len(oxavg_pifs), os.path.basename(oxavg_outfile)))\n",
    "\n",
    "#update pickle files with any new entries\n",
    "calc_feat_Co23Fe34.update_file()\n",
    "calc_feat_Co24Fe24.update_file()\n",
    "calc_feat_Co34Fe23.update_file()"
   ]
  },
  {
   "cell_type": "markdown",
   "metadata": {},
   "source": [
    "### Upload PIFs to datasets"
   ]
  },
  {
   "cell_type": "code",
   "execution_count": 12,
   "metadata": {},
   "outputs": [
    {
     "data": {
      "text/plain": [
       "162971"
      ]
     },
     "execution_count": 12,
     "metadata": {},
     "output_type": "execute_result"
    }
   ],
   "source": [
    "\"create dataset if not existing\"\n",
    "# client = CitrinationClient(os.environ['CITRINATION_API_KEY'],'https://citrination.com')\n",
    "# dataset1 = client.create_dataset(name='tco_sigma_elec_full',\n",
    "#                                 description='Electrical conductivity for TCO thin films with all features',\n",
    "#                                 public=0)\n",
    "\n",
    "# dataset2 = client.create_dataset(name='tco_sigma_elec_oxavg_Co[2,3]Fe[3,4]',\n",
    "#                                 description='Electrical conductivity for TCO thin films with oxavg features only',\n",
    "#                                 public=0)\n",
    "\n",
    "# dataset.id, dataset2.id\n",
    "\n",
    "# dataset4 = client.create_dataset(name='tco_sigma_elec_oxavg_Co[2,4]Fe[2,4]',\n",
    "#                                 description='Electrical conductivity for TCO thin films with oxavg features only. Cation ox limits: Co: [2,4]; Fe: [2,4]',\n",
    "#                                 public=0)\n",
    "\n",
    "dataset5 = client.create_dataset(name='tco_sigma_elec_oxavg_Co[3,4]Fe[2,3]',\n",
    "                                description='Electrical conductivity for TCO thin films with oxavg features only. Cation ox limits: Co: [3,4]; Fe: [2,3]',\n",
    "                                public=0)\n",
    "\n",
    "dataset5.id"
   ]
  },
  {
   "cell_type": "markdown",
   "metadata": {},
   "source": [
    "### Datasets\n",
    "tco_sigma_elec_oxavg_**Co[2,3]Fe[3,4]: 162725**\n",
    "\n",
    "tco_sigma_elec_oxavg_**Co[2,4]Fe[2,4]: 162765**\n",
    "\n",
    "tco_sigma_elec_oxavg_**Co[3,4]Fe[2,3]: 162971**"
   ]
  },
  {
   "cell_type": "code",
   "execution_count": 13,
   "metadata": {},
   "outputs": [
    {
     "data": {
      "text/plain": [
       "[{'_failures': [],\n",
       "  '_successes': [{'path': 'C:\\\\Users\\\\jdhuang\\\\OneDrive - Colorado School of Mines/Research/MIDDMI/TCO\\\\data/conductivity\\\\pifs\\\\Co(3,4)Fe(2,3)\\\\PDAC_COM3_01251_oxavg_pif.json'}]},\n",
       " {'_failures': [],\n",
       "  '_successes': [{'path': 'C:\\\\Users\\\\jdhuang\\\\OneDrive - Colorado School of Mines/Research/MIDDMI/TCO\\\\data/conductivity\\\\pifs\\\\Co(3,4)Fe(2,3)\\\\PDAC_COM3_01254_oxavg_pif.json'}]},\n",
       " {'_failures': [],\n",
       "  '_successes': [{'path': 'C:\\\\Users\\\\jdhuang\\\\OneDrive - Colorado School of Mines/Research/MIDDMI/TCO\\\\data/conductivity\\\\pifs\\\\Co(3,4)Fe(2,3)\\\\PDAC_COM3_01255_oxavg_pif.json'}]},\n",
       " {'_failures': [],\n",
       "  '_successes': [{'path': 'C:\\\\Users\\\\jdhuang\\\\OneDrive - Colorado School of Mines/Research/MIDDMI/TCO\\\\data/conductivity\\\\pifs\\\\Co(3,4)Fe(2,3)\\\\PDAC_COM3_01256_oxavg_pif.json'}]}]"
      ]
     },
     "execution_count": 13,
     "metadata": {},
     "output_type": "execute_result"
    }
   ],
   "source": [
    "\"general pif upload\"\n",
    "client = CitrinationClient(os.environ['CITRINATION_API_KEY'],'https://citrination.com')\n",
    "dsid = 162971 \n",
    "\n",
    "upload_dir = os.path.join(pifdir,'Co(3,4)Fe(2,3)')\n",
    "\n",
    "results = []\n",
    "\n",
    "for file in glob.glob(os.path.join(upload_dir,'*oxavg*.json')):\n",
    "    result = client.upload(dsid,file)\n",
    "    results.append(result)\n",
    "\n",
    "[r.__dict__ for r in results]"
   ]
  },
  {
   "cell_type": "code",
   "execution_count": 139,
   "metadata": {},
   "outputs": [
    {
     "data": {
      "text/plain": [
       "['C:\\\\Users\\\\jdhuang\\\\OneDrive - Colorado School of Mines/Research/MIDDMI/TCO\\\\data/conductivity\\\\pifs\\\\Co(2,4)Fe(2,4)\\\\PDAC_COM3_01251_oxavg_pif.json',\n",
       " 'C:\\\\Users\\\\jdhuang\\\\OneDrive - Colorado School of Mines/Research/MIDDMI/TCO\\\\data/conductivity\\\\pifs\\\\Co(2,4)Fe(2,4)\\\\PDAC_COM3_01251_pif.json',\n",
       " 'C:\\\\Users\\\\jdhuang\\\\OneDrive - Colorado School of Mines/Research/MIDDMI/TCO\\\\data/conductivity\\\\pifs\\\\Co(2,4)Fe(2,4)\\\\PDAC_COM3_01254_oxavg_pif.json',\n",
       " 'C:\\\\Users\\\\jdhuang\\\\OneDrive - Colorado School of Mines/Research/MIDDMI/TCO\\\\data/conductivity\\\\pifs\\\\Co(2,4)Fe(2,4)\\\\PDAC_COM3_01254_pif.json',\n",
       " 'C:\\\\Users\\\\jdhuang\\\\OneDrive - Colorado School of Mines/Research/MIDDMI/TCO\\\\data/conductivity\\\\pifs\\\\Co(2,4)Fe(2,4)\\\\PDAC_COM3_01255_oxavg_pif.json',\n",
       " 'C:\\\\Users\\\\jdhuang\\\\OneDrive - Colorado School of Mines/Research/MIDDMI/TCO\\\\data/conductivity\\\\pifs\\\\Co(2,4)Fe(2,4)\\\\PDAC_COM3_01255_pif.json',\n",
       " 'C:\\\\Users\\\\jdhuang\\\\OneDrive - Colorado School of Mines/Research/MIDDMI/TCO\\\\data/conductivity\\\\pifs\\\\Co(2,4)Fe(2,4)\\\\PDAC_COM3_01256_oxavg_pif.json',\n",
       " 'C:\\\\Users\\\\jdhuang\\\\OneDrive - Colorado School of Mines/Research/MIDDMI/TCO\\\\data/conductivity\\\\pifs\\\\Co(2,4)Fe(2,4)\\\\PDAC_COM3_01256_pif.json']"
      ]
     },
     "execution_count": 139,
     "metadata": {},
     "output_type": "execute_result"
    }
   ],
   "source": [
    "glob.glob(os.path.join('C:\\\\Users\\\\jdhuang\\\\OneDrive - Colorado School of Mines/Research/MIDDMI/TCO\\\\data/conductivity\\\\pifs\\\\Co(2,4)Fe(2,4)','*'))"
   ]
  },
  {
   "cell_type": "code",
   "execution_count": 87,
   "metadata": {},
   "outputs": [
    {
     "data": {
      "text/plain": [
       "([{'_failures': [],\n",
       "   '_successes': [{'path': 'C:\\\\Users\\\\jdhuang\\\\OneDrive - Colorado School of Mines/Research/MIDDMI/TCO\\\\data/conductivity\\\\pifs\\\\PDAC_COM3_01251_pif.json'}]},\n",
       "  {'_failures': [],\n",
       "   '_successes': [{'path': 'C:\\\\Users\\\\jdhuang\\\\OneDrive - Colorado School of Mines/Research/MIDDMI/TCO\\\\data/conductivity\\\\pifs\\\\PDAC_COM3_01254_pif.json'}]},\n",
       "  {'_failures': [],\n",
       "   '_successes': [{'path': 'C:\\\\Users\\\\jdhuang\\\\OneDrive - Colorado School of Mines/Research/MIDDMI/TCO\\\\data/conductivity\\\\pifs\\\\PDAC_COM3_01255_pif.json'}]},\n",
       "  {'_failures': [],\n",
       "   '_successes': [{'path': 'C:\\\\Users\\\\jdhuang\\\\OneDrive - Colorado School of Mines/Research/MIDDMI/TCO\\\\data/conductivity\\\\pifs\\\\PDAC_COM3_01256_pif.json'}]}],\n",
       " [{'_failures': [],\n",
       "   '_successes': [{'path': 'C:\\\\Users\\\\jdhuang\\\\OneDrive - Colorado School of Mines/Research/MIDDMI/TCO\\\\data/conductivity\\\\pifs\\\\PDAC_COM3_01251_oxavg_pif.json'}]},\n",
       "  {'_failures': [],\n",
       "   '_successes': [{'path': 'C:\\\\Users\\\\jdhuang\\\\OneDrive - Colorado School of Mines/Research/MIDDMI/TCO\\\\data/conductivity\\\\pifs\\\\PDAC_COM3_01254_oxavg_pif.json'}]},\n",
       "  {'_failures': [],\n",
       "   '_successes': [{'path': 'C:\\\\Users\\\\jdhuang\\\\OneDrive - Colorado School of Mines/Research/MIDDMI/TCO\\\\data/conductivity\\\\pifs\\\\PDAC_COM3_01255_oxavg_pif.json'}]},\n",
       "  {'_failures': [],\n",
       "   '_successes': [{'path': 'C:\\\\Users\\\\jdhuang\\\\OneDrive - Colorado School of Mines/Research/MIDDMI/TCO\\\\data/conductivity\\\\pifs\\\\PDAC_COM3_01256_oxavg_pif.json'}]}])"
      ]
     },
     "execution_count": 87,
     "metadata": {},
     "output_type": "execute_result"
    }
   ],
   "source": [
    "\"Upload pifs\"\n",
    "client = CitrinationClient(os.environ['CITRINATION_API_KEY'],'https://citrination.com')\n",
    "dsid1 = 162724 #full\n",
    "dsid2 = 162725 #oxavg only Co[2,3]Fe[3,4]\n",
    "\n",
    "results1 = []\n",
    "results2 = []\n",
    "\n",
    "for file in glob.glob(os.path.join(pifdir,'*.json')):\n",
    "    filename = os.path.basename(file)\n",
    "    if file.find('oxavg') >= 0:\n",
    "        result = client.upload(dsid2,file)\n",
    "        results2.append(result)\n",
    "        #print('oxavg: {}'.format(filename))\n",
    "    else:\n",
    "        result = client.upload(dsid1,file)\n",
    "        results1.append(result)\n",
    "        #print('full: ' + filename)\n",
    "        \n",
    "[r.__dict__ for r in results1], [r.__dict__ for r in results2]"
   ]
  },
  {
   "cell_type": "code",
   "execution_count": 97,
   "metadata": {},
   "outputs": [
    {
     "data": {
      "text/plain": [
       "162726"
      ]
     },
     "execution_count": 97,
     "metadata": {},
     "output_type": "execute_result"
    }
   ],
   "source": [
    "\"dataset excluding 01255\"\n",
    "dataset3 = client.create_dataset(name='tco_sigma_elec_excl01255',\n",
    "                                description='Electrical conductivity for TCO thin films with oxavg features only and 01255 excluded',\n",
    "                                public=0)\n",
    "dataset3.id"
   ]
  },
  {
   "cell_type": "code",
   "execution_count": 100,
   "metadata": {},
   "outputs": [
    {
     "name": "stdout",
     "output_type": "stream",
     "text": [
      "PDAC_COM3_01251_oxavg_pif.json\n",
      "PDAC_COM3_01254_oxavg_pif.json\n",
      "PDAC_COM3_01256_oxavg_pif.json\n"
     ]
    },
    {
     "data": {
      "text/plain": [
       "[{'_failures': [],\n",
       "  '_successes': [{'path': 'C:\\\\Users\\\\jdhuang\\\\OneDrive - Colorado School of Mines/Research/MIDDMI/TCO\\\\data/conductivity\\\\pifs\\\\PDAC_COM3_01251_oxavg_pif.json'}]},\n",
       " {'_failures': [],\n",
       "  '_successes': [{'path': 'C:\\\\Users\\\\jdhuang\\\\OneDrive - Colorado School of Mines/Research/MIDDMI/TCO\\\\data/conductivity\\\\pifs\\\\PDAC_COM3_01254_oxavg_pif.json'}]},\n",
       " {'_failures': [],\n",
       "  '_successes': [{'path': 'C:\\\\Users\\\\jdhuang\\\\OneDrive - Colorado School of Mines/Research/MIDDMI/TCO\\\\data/conductivity\\\\pifs\\\\PDAC_COM3_01256_oxavg_pif.json'}]}]"
      ]
     },
     "execution_count": 100,
     "metadata": {},
     "output_type": "execute_result"
    }
   ],
   "source": [
    "\"Upload pifs to dataset 3\"\n",
    "dsid3 = 162726 #oxavg only, exclude 01255\n",
    "\n",
    "results3 = []\n",
    "\n",
    "for file in glob.glob(os.path.join(pifdir,'*.json')):\n",
    "    filename = os.path.basename(file)\n",
    "    if file.find('oxavg') >= 0 and file.find('01255')==-1:\n",
    "        result = client.upload(dsid3,file)\n",
    "        results3.append(result)\n",
    "        print(filename)\n",
    "        \n",
    "[r.__dict__ for r in results3]"
   ]
  },
  {
   "cell_type": "code",
   "execution_count": 90,
   "metadata": {},
   "outputs": [],
   "source": [
    "data = pd.DataFrame()\n",
    "samples = next(os.walk(os.path.join(datadir,src)))[1]\n",
    "for sample in samples:\n",
    "    df = fl.load_sample_files(sampledir(sample,src),info_filter={'T_set':['500C'],'atm':'dry'})\n",
    "    df['sample'] = sample\n",
    "    data = data.append(df,sort=True)\n",
    "    \n",
    "neg = data.loc[data['Sigma_elec']<=0,:]\n",
    "pos = data.loc[data['Sigma_elec']>=0,:]\n"
   ]
  },
  {
   "cell_type": "code",
   "execution_count": 145,
   "metadata": {},
   "outputs": [
    {
     "data": {
      "text/plain": [
       "<pypif.obj.common.property.Property at 0x27e0da3fc88>"
      ]
     },
     "execution_count": 145,
     "metadata": {},
     "output_type": "execute_result"
    }
   ],
   "source": [
    "row_pif.properties[0]"
   ]
  },
  {
   "cell_type": "code",
   "execution_count": 96,
   "metadata": {},
   "outputs": [
    {
     "name": "stdout",
     "output_type": "stream",
     "text": [
      "PDAC_COM3_01251 3\n",
      "PDAC_COM3_01254 22\n",
      "PDAC_COM3_01255 131\n",
      "PDAC_COM3_01256 1\n"
     ]
    }
   ],
   "source": [
    "low = data.loc[data['Sigma_elec']<5e-6,:]\n",
    "for s in low['sample'].unique():\n",
    "    print(s,len(low[low['sample']==s]))"
   ]
  },
  {
   "cell_type": "code",
   "execution_count": null,
   "metadata": {},
   "outputs": [],
   "source": []
  }
 ],
 "metadata": {
  "kernelspec": {
   "display_name": "Python 3",
   "language": "python",
   "name": "python3"
  },
  "language_info": {
   "codemirror_mode": {
    "name": "ipython",
    "version": 3
   },
   "file_extension": ".py",
   "mimetype": "text/x-python",
   "name": "python",
   "nbconvert_exporter": "python",
   "pygments_lexer": "ipython3",
   "version": "3.6.5"
  }
 },
 "nbformat": 4,
 "nbformat_minor": 2
}
